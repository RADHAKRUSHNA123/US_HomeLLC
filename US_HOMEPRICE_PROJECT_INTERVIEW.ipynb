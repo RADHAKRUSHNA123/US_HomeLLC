{
 "cells": [
  {
   "cell_type": "markdown",
   "id": "3ac07314",
   "metadata": {},
   "source": [
    "## Data collection and storing"
   ]
  },
  {
   "cell_type": "code",
   "execution_count": 1,
   "id": "d5e6da9e",
   "metadata": {},
   "outputs": [],
   "source": [
    "import pandas as pd\n",
    "import os"
   ]
  },
  {
   "cell_type": "code",
   "execution_count": 168,
   "id": "a6c3f321",
   "metadata": {},
   "outputs": [],
   "source": [
    "# the following features are extracted from different sites and joined to make a dataset df_final\n",
    "# S&P/Case-Shiller U.S. National Home Price Index (CSUSHPINSA)\n",
    "# emratio,house_st,IPI_Cement,labor_percent,monthly_supply,mortgage_rate,new_private_house,permit,PI,POPTHM,PPI_Cement,PPI_Concrete,p_saving_rate,unemployed_rate"
   ]
  },
  {
   "cell_type": "code",
   "execution_count": 2,
   "id": "c5f746a0",
   "metadata": {},
   "outputs": [],
   "source": [
    "# Reading target data extrated from https://fred.stlouisfed.org/series/CSUSHPINSA\n",
    "#[ S&P/Case-Shiller U.S. National Home Price Index (CSUSHPINSA)]\n",
    "target = pd.read_csv(\"CSUSHPINSA.csv\")"
   ]
  },
  {
   "cell_type": "code",
   "execution_count": 3,
   "id": "78d903d2",
   "metadata": {},
   "outputs": [
    {
     "data": {
      "text/html": [
       "<div>\n",
       "<style scoped>\n",
       "    .dataframe tbody tr th:only-of-type {\n",
       "        vertical-align: middle;\n",
       "    }\n",
       "\n",
       "    .dataframe tbody tr th {\n",
       "        vertical-align: top;\n",
       "    }\n",
       "\n",
       "    .dataframe thead th {\n",
       "        text-align: right;\n",
       "    }\n",
       "</style>\n",
       "<table border=\"1\" class=\"dataframe\">\n",
       "  <thead>\n",
       "    <tr style=\"text-align: right;\">\n",
       "      <th></th>\n",
       "      <th>DATE</th>\n",
       "      <th>CSUSHPINSA</th>\n",
       "    </tr>\n",
       "  </thead>\n",
       "  <tbody>\n",
       "    <tr>\n",
       "      <th>0</th>\n",
       "      <td>2002-01-01</td>\n",
       "      <td>116.437</td>\n",
       "    </tr>\n",
       "    <tr>\n",
       "      <th>1</th>\n",
       "      <td>2002-02-01</td>\n",
       "      <td>116.917</td>\n",
       "    </tr>\n",
       "    <tr>\n",
       "      <th>2</th>\n",
       "      <td>2002-03-01</td>\n",
       "      <td>117.929</td>\n",
       "    </tr>\n",
       "    <tr>\n",
       "      <th>3</th>\n",
       "      <td>2002-04-01</td>\n",
       "      <td>119.209</td>\n",
       "    </tr>\n",
       "    <tr>\n",
       "      <th>4</th>\n",
       "      <td>2002-05-01</td>\n",
       "      <td>120.788</td>\n",
       "    </tr>\n",
       "  </tbody>\n",
       "</table>\n",
       "</div>"
      ],
      "text/plain": [
       "         DATE  CSUSHPINSA\n",
       "0  2002-01-01     116.437\n",
       "1  2002-02-01     116.917\n",
       "2  2002-03-01     117.929\n",
       "3  2002-04-01     119.209\n",
       "4  2002-05-01     120.788"
      ]
     },
     "execution_count": 3,
     "metadata": {},
     "output_type": "execute_result"
    }
   ],
   "source": [
    "target.head()"
   ]
  },
  {
   "cell_type": "code",
   "execution_count": 4,
   "id": "557295fe",
   "metadata": {},
   "outputs": [],
   "source": [
    "# Setting DATE as index, column renaming, setting DATE as index, filtering data from \"1987-01-01\":\"2023-07-01\".\n",
    "\n",
    "target.set_index('DATE', inplace =True)\n",
    "target.rename(columns= {'CSUSHPINSA': 'target'}, inplace =True)\n",
    "target.index = pd.to_datetime(target.index)"
   ]
  },
  {
   "cell_type": "code",
   "execution_count": 5,
   "id": "22ca66ea",
   "metadata": {},
   "outputs": [
    {
     "data": {
      "text/plain": [
       "(261, 1)"
      ]
     },
     "execution_count": 5,
     "metadata": {},
     "output_type": "execute_result"
    }
   ],
   "source": [
    "target.shape\n"
   ]
  },
  {
   "cell_type": "code",
   "execution_count": 6,
   "id": "b5a955d5",
   "metadata": {},
   "outputs": [],
   "source": [
    "# Creating Directory Cleaned data for storing cleaned data\n",
    "\n",
    "directory_path = \"Cleaned data\"\n",
    "os.makedirs(directory_path, exist_ok=True)\n"
   ]
  },
  {
   "cell_type": "code",
   "execution_count": 7,
   "id": "d10e3be2",
   "metadata": {},
   "outputs": [],
   "source": [
    "target.to_csv(\"Cleaned data/target.csv\")\n"
   ]
  },
  {
   "cell_type": "code",
   "execution_count": 9,
   "id": "a0298250",
   "metadata": {},
   "outputs": [],
   "source": [
    "population = pd.read_csv('population.csv')\n"
   ]
  },
  {
   "cell_type": "code",
   "execution_count": 10,
   "id": "ff476039",
   "metadata": {},
   "outputs": [
    {
     "data": {
      "text/html": [
       "<div>\n",
       "<style scoped>\n",
       "    .dataframe tbody tr th:only-of-type {\n",
       "        vertical-align: middle;\n",
       "    }\n",
       "\n",
       "    .dataframe tbody tr th {\n",
       "        vertical-align: top;\n",
       "    }\n",
       "\n",
       "    .dataframe thead th {\n",
       "        text-align: right;\n",
       "    }\n",
       "</style>\n",
       "<table border=\"1\" class=\"dataframe\">\n",
       "  <thead>\n",
       "    <tr style=\"text-align: right;\">\n",
       "      <th></th>\n",
       "      <th>DATE</th>\n",
       "      <th>POPTHM</th>\n",
       "    </tr>\n",
       "  </thead>\n",
       "  <tbody>\n",
       "    <tr>\n",
       "      <th>0</th>\n",
       "      <td>2002-01-01</td>\n",
       "      <td>286739.0</td>\n",
       "    </tr>\n",
       "    <tr>\n",
       "      <th>1</th>\n",
       "      <td>2002-02-01</td>\n",
       "      <td>286935.0</td>\n",
       "    </tr>\n",
       "    <tr>\n",
       "      <th>2</th>\n",
       "      <td>2002-03-01</td>\n",
       "      <td>287131.0</td>\n",
       "    </tr>\n",
       "    <tr>\n",
       "      <th>3</th>\n",
       "      <td>2002-04-01</td>\n",
       "      <td>287343.0</td>\n",
       "    </tr>\n",
       "    <tr>\n",
       "      <th>4</th>\n",
       "      <td>2002-05-01</td>\n",
       "      <td>287571.0</td>\n",
       "    </tr>\n",
       "  </tbody>\n",
       "</table>\n",
       "</div>"
      ],
      "text/plain": [
       "         DATE    POPTHM\n",
       "0  2002-01-01  286739.0\n",
       "1  2002-02-01  286935.0\n",
       "2  2002-03-01  287131.0\n",
       "3  2002-04-01  287343.0\n",
       "4  2002-05-01  287571.0"
      ]
     },
     "execution_count": 10,
     "metadata": {},
     "output_type": "execute_result"
    }
   ],
   "source": [
    "population.head()\n"
   ]
  },
  {
   "cell_type": "code",
   "execution_count": 11,
   "id": "80ad01a8",
   "metadata": {},
   "outputs": [],
   "source": [
    "population.set_index('DATE', inplace =True)\n",
    "population.index = pd.to_datetime(population.index)"
   ]
  },
  {
   "cell_type": "code",
   "execution_count": 12,
   "id": "875e21f4",
   "metadata": {},
   "outputs": [
    {
     "data": {
      "text/plain": [
       "(262, 1)"
      ]
     },
     "execution_count": 12,
     "metadata": {},
     "output_type": "execute_result"
    }
   ],
   "source": [
    "population.shape"
   ]
  },
  {
   "cell_type": "code",
   "execution_count": 13,
   "id": "0f259b27",
   "metadata": {},
   "outputs": [],
   "source": [
    "population.to_csv('Cleaned data/population.csv')\n"
   ]
  },
  {
   "cell_type": "code",
   "execution_count": 16,
   "id": "8997ea25",
   "metadata": {},
   "outputs": [],
   "source": [
    "personal_income = pd.read_csv('personal_income.csv')\n"
   ]
  },
  {
   "cell_type": "code",
   "execution_count": 17,
   "id": "6143f30d",
   "metadata": {},
   "outputs": [
    {
     "data": {
      "text/html": [
       "<div>\n",
       "<style scoped>\n",
       "    .dataframe tbody tr th:only-of-type {\n",
       "        vertical-align: middle;\n",
       "    }\n",
       "\n",
       "    .dataframe tbody tr th {\n",
       "        vertical-align: top;\n",
       "    }\n",
       "\n",
       "    .dataframe thead th {\n",
       "        text-align: right;\n",
       "    }\n",
       "</style>\n",
       "<table border=\"1\" class=\"dataframe\">\n",
       "  <thead>\n",
       "    <tr style=\"text-align: right;\">\n",
       "      <th></th>\n",
       "      <th>DATE</th>\n",
       "      <th>PI</th>\n",
       "    </tr>\n",
       "  </thead>\n",
       "  <tbody>\n",
       "    <tr>\n",
       "      <th>0</th>\n",
       "      <td>2002-01-01</td>\n",
       "      <td>9015.6</td>\n",
       "    </tr>\n",
       "    <tr>\n",
       "      <th>1</th>\n",
       "      <td>2002-02-01</td>\n",
       "      <td>9031.9</td>\n",
       "    </tr>\n",
       "    <tr>\n",
       "      <th>2</th>\n",
       "      <td>2002-03-01</td>\n",
       "      <td>9050.7</td>\n",
       "    </tr>\n",
       "    <tr>\n",
       "      <th>3</th>\n",
       "      <td>2002-04-01</td>\n",
       "      <td>9099.9</td>\n",
       "    </tr>\n",
       "    <tr>\n",
       "      <th>4</th>\n",
       "      <td>2002-05-01</td>\n",
       "      <td>9131.0</td>\n",
       "    </tr>\n",
       "  </tbody>\n",
       "</table>\n",
       "</div>"
      ],
      "text/plain": [
       "         DATE      PI\n",
       "0  2002-01-01  9015.6\n",
       "1  2002-02-01  9031.9\n",
       "2  2002-03-01  9050.7\n",
       "3  2002-04-01  9099.9\n",
       "4  2002-05-01  9131.0"
      ]
     },
     "execution_count": 17,
     "metadata": {},
     "output_type": "execute_result"
    }
   ],
   "source": [
    "personal_income.head()\n"
   ]
  },
  {
   "cell_type": "code",
   "execution_count": 18,
   "id": "6cd197f1",
   "metadata": {},
   "outputs": [],
   "source": [
    "personal_income.set_index('DATE', inplace =True)\n",
    "personal_income.index = pd.to_datetime(personal_income.index)"
   ]
  },
  {
   "cell_type": "code",
   "execution_count": 19,
   "id": "21387bb3",
   "metadata": {},
   "outputs": [
    {
     "data": {
      "text/html": [
       "<div>\n",
       "<style scoped>\n",
       "    .dataframe tbody tr th:only-of-type {\n",
       "        vertical-align: middle;\n",
       "    }\n",
       "\n",
       "    .dataframe tbody tr th {\n",
       "        vertical-align: top;\n",
       "    }\n",
       "\n",
       "    .dataframe thead th {\n",
       "        text-align: right;\n",
       "    }\n",
       "</style>\n",
       "<table border=\"1\" class=\"dataframe\">\n",
       "  <thead>\n",
       "    <tr style=\"text-align: right;\">\n",
       "      <th></th>\n",
       "      <th>PI</th>\n",
       "    </tr>\n",
       "    <tr>\n",
       "      <th>DATE</th>\n",
       "      <th></th>\n",
       "    </tr>\n",
       "  </thead>\n",
       "  <tbody>\n",
       "    <tr>\n",
       "      <th>2002-01-01</th>\n",
       "      <td>9015.6</td>\n",
       "    </tr>\n",
       "    <tr>\n",
       "      <th>2002-02-01</th>\n",
       "      <td>9031.9</td>\n",
       "    </tr>\n",
       "    <tr>\n",
       "      <th>2002-03-01</th>\n",
       "      <td>9050.7</td>\n",
       "    </tr>\n",
       "    <tr>\n",
       "      <th>2002-04-01</th>\n",
       "      <td>9099.9</td>\n",
       "    </tr>\n",
       "    <tr>\n",
       "      <th>2002-05-01</th>\n",
       "      <td>9131.0</td>\n",
       "    </tr>\n",
       "  </tbody>\n",
       "</table>\n",
       "</div>"
      ],
      "text/plain": [
       "                PI\n",
       "DATE              \n",
       "2002-01-01  9015.6\n",
       "2002-02-01  9031.9\n",
       "2002-03-01  9050.7\n",
       "2002-04-01  9099.9\n",
       "2002-05-01  9131.0"
      ]
     },
     "execution_count": 19,
     "metadata": {},
     "output_type": "execute_result"
    }
   ],
   "source": [
    "personal_income.head()\n"
   ]
  },
  {
   "cell_type": "code",
   "execution_count": 20,
   "id": "876df7dd",
   "metadata": {},
   "outputs": [
    {
     "data": {
      "text/plain": [
       "(262, 1)"
      ]
     },
     "execution_count": 20,
     "metadata": {},
     "output_type": "execute_result"
    }
   ],
   "source": [
    "personal_income.shape\n"
   ]
  },
  {
   "cell_type": "code",
   "execution_count": 21,
   "id": "f051de4b",
   "metadata": {},
   "outputs": [],
   "source": [
    "personal_income.to_csv(\"Cleaned data/personal_income.csv\")\n"
   ]
  },
  {
   "cell_type": "code",
   "execution_count": 24,
   "id": "a13277bf",
   "metadata": {},
   "outputs": [],
   "source": [
    "unemployed_rate = pd.read_csv('UNRATE.csv')\n"
   ]
  },
  {
   "cell_type": "code",
   "execution_count": 25,
   "id": "d32072d9",
   "metadata": {},
   "outputs": [
    {
     "data": {
      "text/html": [
       "<div>\n",
       "<style scoped>\n",
       "    .dataframe tbody tr th:only-of-type {\n",
       "        vertical-align: middle;\n",
       "    }\n",
       "\n",
       "    .dataframe tbody tr th {\n",
       "        vertical-align: top;\n",
       "    }\n",
       "\n",
       "    .dataframe thead th {\n",
       "        text-align: right;\n",
       "    }\n",
       "</style>\n",
       "<table border=\"1\" class=\"dataframe\">\n",
       "  <thead>\n",
       "    <tr style=\"text-align: right;\">\n",
       "      <th></th>\n",
       "      <th>DATE</th>\n",
       "      <th>UNRATE</th>\n",
       "    </tr>\n",
       "  </thead>\n",
       "  <tbody>\n",
       "    <tr>\n",
       "      <th>0</th>\n",
       "      <td>2002-01-01</td>\n",
       "      <td>5.7</td>\n",
       "    </tr>\n",
       "    <tr>\n",
       "      <th>1</th>\n",
       "      <td>2002-02-01</td>\n",
       "      <td>5.7</td>\n",
       "    </tr>\n",
       "    <tr>\n",
       "      <th>2</th>\n",
       "      <td>2002-03-01</td>\n",
       "      <td>5.7</td>\n",
       "    </tr>\n",
       "    <tr>\n",
       "      <th>3</th>\n",
       "      <td>2002-04-01</td>\n",
       "      <td>5.9</td>\n",
       "    </tr>\n",
       "    <tr>\n",
       "      <th>4</th>\n",
       "      <td>2002-05-01</td>\n",
       "      <td>5.8</td>\n",
       "    </tr>\n",
       "  </tbody>\n",
       "</table>\n",
       "</div>"
      ],
      "text/plain": [
       "         DATE  UNRATE\n",
       "0  2002-01-01     5.7\n",
       "1  2002-02-01     5.7\n",
       "2  2002-03-01     5.7\n",
       "3  2002-04-01     5.9\n",
       "4  2002-05-01     5.8"
      ]
     },
     "execution_count": 25,
     "metadata": {},
     "output_type": "execute_result"
    }
   ],
   "source": [
    "unemployed_rate.head()\n"
   ]
  },
  {
   "cell_type": "code",
   "execution_count": 26,
   "id": "fd55d5a2",
   "metadata": {},
   "outputs": [],
   "source": [
    "unemployed_rate.set_index('DATE', inplace =True)\n",
    "unemployed_rate.rename(columns= {'UNRATE': 'unemployed_rate'}, inplace =True)\n",
    "unemployed_rate.index = pd.to_datetime(unemployed_rate.index)"
   ]
  },
  {
   "cell_type": "code",
   "execution_count": 27,
   "id": "520b1bbc",
   "metadata": {},
   "outputs": [
    {
     "data": {
      "text/plain": [
       "(263, 1)"
      ]
     },
     "execution_count": 27,
     "metadata": {},
     "output_type": "execute_result"
    }
   ],
   "source": [
    "unemployed_rate.shape\n"
   ]
  },
  {
   "cell_type": "code",
   "execution_count": 28,
   "id": "cdab6b6e",
   "metadata": {},
   "outputs": [],
   "source": [
    "unemployed_rate.to_csv(\"Cleaned data/unemployed_rate.csv\")\n"
   ]
  },
  {
   "cell_type": "code",
   "execution_count": 30,
   "id": "623d7a47",
   "metadata": {},
   "outputs": [
    {
     "data": {
      "text/html": [
       "<div>\n",
       "<style scoped>\n",
       "    .dataframe tbody tr th:only-of-type {\n",
       "        vertical-align: middle;\n",
       "    }\n",
       "\n",
       "    .dataframe tbody tr th {\n",
       "        vertical-align: top;\n",
       "    }\n",
       "\n",
       "    .dataframe thead th {\n",
       "        text-align: right;\n",
       "    }\n",
       "</style>\n",
       "<table border=\"1\" class=\"dataframe\">\n",
       "  <thead>\n",
       "    <tr style=\"text-align: right;\">\n",
       "      <th></th>\n",
       "      <th>unemployed_rate</th>\n",
       "    </tr>\n",
       "    <tr>\n",
       "      <th>DATE</th>\n",
       "      <th></th>\n",
       "    </tr>\n",
       "  </thead>\n",
       "  <tbody>\n",
       "    <tr>\n",
       "      <th>2002-01-01</th>\n",
       "      <td>5.7</td>\n",
       "    </tr>\n",
       "    <tr>\n",
       "      <th>2002-02-01</th>\n",
       "      <td>5.7</td>\n",
       "    </tr>\n",
       "    <tr>\n",
       "      <th>2002-03-01</th>\n",
       "      <td>5.7</td>\n",
       "    </tr>\n",
       "    <tr>\n",
       "      <th>2002-04-01</th>\n",
       "      <td>5.9</td>\n",
       "    </tr>\n",
       "    <tr>\n",
       "      <th>2002-05-01</th>\n",
       "      <td>5.8</td>\n",
       "    </tr>\n",
       "  </tbody>\n",
       "</table>\n",
       "</div>"
      ],
      "text/plain": [
       "            unemployed_rate\n",
       "DATE                       \n",
       "2002-01-01              5.7\n",
       "2002-02-01              5.7\n",
       "2002-03-01              5.7\n",
       "2002-04-01              5.9\n",
       "2002-05-01              5.8"
      ]
     },
     "execution_count": 30,
     "metadata": {},
     "output_type": "execute_result"
    }
   ],
   "source": [
    "unemployed_rate.head()"
   ]
  },
  {
   "cell_type": "code",
   "execution_count": 31,
   "id": "9e9c182b",
   "metadata": {},
   "outputs": [],
   "source": [
    "mortgage =pd.read_csv(\"MORTGAGE30US.csv\")\n"
   ]
  },
  {
   "cell_type": "code",
   "execution_count": 32,
   "id": "2c162419",
   "metadata": {},
   "outputs": [
    {
     "data": {
      "text/html": [
       "<div>\n",
       "<style scoped>\n",
       "    .dataframe tbody tr th:only-of-type {\n",
       "        vertical-align: middle;\n",
       "    }\n",
       "\n",
       "    .dataframe tbody tr th {\n",
       "        vertical-align: top;\n",
       "    }\n",
       "\n",
       "    .dataframe thead th {\n",
       "        text-align: right;\n",
       "    }\n",
       "</style>\n",
       "<table border=\"1\" class=\"dataframe\">\n",
       "  <thead>\n",
       "    <tr style=\"text-align: right;\">\n",
       "      <th></th>\n",
       "      <th>DATE</th>\n",
       "      <th>MORTGAGE30US</th>\n",
       "    </tr>\n",
       "  </thead>\n",
       "  <tbody>\n",
       "    <tr>\n",
       "      <th>0</th>\n",
       "      <td>2002-01-01</td>\n",
       "      <td>6.9975</td>\n",
       "    </tr>\n",
       "    <tr>\n",
       "      <th>1</th>\n",
       "      <td>2002-02-01</td>\n",
       "      <td>6.8925</td>\n",
       "    </tr>\n",
       "    <tr>\n",
       "      <th>2</th>\n",
       "      <td>2002-03-01</td>\n",
       "      <td>7.0140</td>\n",
       "    </tr>\n",
       "    <tr>\n",
       "      <th>3</th>\n",
       "      <td>2002-04-01</td>\n",
       "      <td>6.9850</td>\n",
       "    </tr>\n",
       "    <tr>\n",
       "      <th>4</th>\n",
       "      <td>2002-05-01</td>\n",
       "      <td>6.8060</td>\n",
       "    </tr>\n",
       "  </tbody>\n",
       "</table>\n",
       "</div>"
      ],
      "text/plain": [
       "         DATE  MORTGAGE30US\n",
       "0  2002-01-01        6.9975\n",
       "1  2002-02-01        6.8925\n",
       "2  2002-03-01        7.0140\n",
       "3  2002-04-01        6.9850\n",
       "4  2002-05-01        6.8060"
      ]
     },
     "execution_count": 32,
     "metadata": {},
     "output_type": "execute_result"
    }
   ],
   "source": [
    "mortgage.head()"
   ]
  },
  {
   "cell_type": "code",
   "execution_count": 33,
   "id": "c9ec21d4",
   "metadata": {},
   "outputs": [],
   "source": [
    "mortgage.set_index('DATE', inplace =True)\n",
    "mortgage.rename(columns= {'MORTGAGE30US': 'mortgage_rate'}, inplace =True)\n",
    "mortgage.index = pd.to_datetime(mortgage.index)"
   ]
  },
  {
   "cell_type": "code",
   "execution_count": 34,
   "id": "563a97f4",
   "metadata": {},
   "outputs": [
    {
     "data": {
      "text/plain": [
       "(263, 1)"
      ]
     },
     "execution_count": 34,
     "metadata": {},
     "output_type": "execute_result"
    }
   ],
   "source": [
    "mortgage.shape"
   ]
  },
  {
   "cell_type": "code",
   "execution_count": 35,
   "id": "dd4013cd",
   "metadata": {},
   "outputs": [],
   "source": [
    "mortgage.to_csv(\"Cleaned data/mortgage.csv\")\n"
   ]
  },
  {
   "cell_type": "code",
   "execution_count": 57,
   "id": "ca19d17c",
   "metadata": {},
   "outputs": [],
   "source": [
    "emratio = pd.read_csv(\"EMRATIO.csv\")\n"
   ]
  },
  {
   "cell_type": "code",
   "execution_count": 58,
   "id": "b0ba9a8d",
   "metadata": {},
   "outputs": [
    {
     "data": {
      "text/html": [
       "<div>\n",
       "<style scoped>\n",
       "    .dataframe tbody tr th:only-of-type {\n",
       "        vertical-align: middle;\n",
       "    }\n",
       "\n",
       "    .dataframe tbody tr th {\n",
       "        vertical-align: top;\n",
       "    }\n",
       "\n",
       "    .dataframe thead th {\n",
       "        text-align: right;\n",
       "    }\n",
       "</style>\n",
       "<table border=\"1\" class=\"dataframe\">\n",
       "  <thead>\n",
       "    <tr style=\"text-align: right;\">\n",
       "      <th></th>\n",
       "      <th>DATE</th>\n",
       "      <th>EMRATIO</th>\n",
       "    </tr>\n",
       "  </thead>\n",
       "  <tbody>\n",
       "    <tr>\n",
       "      <th>0</th>\n",
       "      <td>2002-01-01</td>\n",
       "      <td>62.7</td>\n",
       "    </tr>\n",
       "    <tr>\n",
       "      <th>1</th>\n",
       "      <td>2002-02-01</td>\n",
       "      <td>63.0</td>\n",
       "    </tr>\n",
       "    <tr>\n",
       "      <th>2</th>\n",
       "      <td>2002-03-01</td>\n",
       "      <td>62.8</td>\n",
       "    </tr>\n",
       "    <tr>\n",
       "      <th>3</th>\n",
       "      <td>2002-04-01</td>\n",
       "      <td>62.7</td>\n",
       "    </tr>\n",
       "    <tr>\n",
       "      <th>4</th>\n",
       "      <td>2002-05-01</td>\n",
       "      <td>62.9</td>\n",
       "    </tr>\n",
       "  </tbody>\n",
       "</table>\n",
       "</div>"
      ],
      "text/plain": [
       "         DATE  EMRATIO\n",
       "0  2002-01-01     62.7\n",
       "1  2002-02-01     63.0\n",
       "2  2002-03-01     62.8\n",
       "3  2002-04-01     62.7\n",
       "4  2002-05-01     62.9"
      ]
     },
     "execution_count": 58,
     "metadata": {},
     "output_type": "execute_result"
    }
   ],
   "source": [
    "emratio.head()"
   ]
  },
  {
   "cell_type": "code",
   "execution_count": 59,
   "id": "b5c8bd64",
   "metadata": {},
   "outputs": [],
   "source": [
    "emratio.set_index('DATE', inplace =True)\n",
    "emratio.rename(columns= {'EMRATIO': 'emratio'}, inplace =True)\n",
    "emratio.index = pd.to_datetime(emratio.index)\n"
   ]
  },
  {
   "cell_type": "code",
   "execution_count": 60,
   "id": "7bb173e5",
   "metadata": {},
   "outputs": [],
   "source": [
    "emratio.to_csv(\"Cleaned data/emratio.csv\")\n"
   ]
  },
  {
   "cell_type": "code",
   "execution_count": 61,
   "id": "5808a8ef",
   "metadata": {},
   "outputs": [
    {
     "data": {
      "text/plain": [
       "(263, 1)"
      ]
     },
     "execution_count": 61,
     "metadata": {},
     "output_type": "execute_result"
    }
   ],
   "source": [
    "emratio.shape"
   ]
  },
  {
   "cell_type": "code",
   "execution_count": 68,
   "id": "3422575c",
   "metadata": {},
   "outputs": [],
   "source": [
    "permit = pd.read_csv(\"PERMIT.csv\")\n"
   ]
  },
  {
   "cell_type": "code",
   "execution_count": 69,
   "id": "07c7e91f",
   "metadata": {},
   "outputs": [
    {
     "data": {
      "text/html": [
       "<div>\n",
       "<style scoped>\n",
       "    .dataframe tbody tr th:only-of-type {\n",
       "        vertical-align: middle;\n",
       "    }\n",
       "\n",
       "    .dataframe tbody tr th {\n",
       "        vertical-align: top;\n",
       "    }\n",
       "\n",
       "    .dataframe thead th {\n",
       "        text-align: right;\n",
       "    }\n",
       "</style>\n",
       "<table border=\"1\" class=\"dataframe\">\n",
       "  <thead>\n",
       "    <tr style=\"text-align: right;\">\n",
       "      <th></th>\n",
       "      <th>DATE</th>\n",
       "      <th>PERMIT</th>\n",
       "    </tr>\n",
       "  </thead>\n",
       "  <tbody>\n",
       "    <tr>\n",
       "      <th>0</th>\n",
       "      <td>2002-01-01</td>\n",
       "      <td>1665.0</td>\n",
       "    </tr>\n",
       "    <tr>\n",
       "      <th>1</th>\n",
       "      <td>2002-02-01</td>\n",
       "      <td>1787.0</td>\n",
       "    </tr>\n",
       "    <tr>\n",
       "      <th>2</th>\n",
       "      <td>2002-03-01</td>\n",
       "      <td>1691.0</td>\n",
       "    </tr>\n",
       "    <tr>\n",
       "      <th>3</th>\n",
       "      <td>2002-04-01</td>\n",
       "      <td>1669.0</td>\n",
       "    </tr>\n",
       "    <tr>\n",
       "      <th>4</th>\n",
       "      <td>2002-05-01</td>\n",
       "      <td>1716.0</td>\n",
       "    </tr>\n",
       "  </tbody>\n",
       "</table>\n",
       "</div>"
      ],
      "text/plain": [
       "         DATE  PERMIT\n",
       "0  2002-01-01  1665.0\n",
       "1  2002-02-01  1787.0\n",
       "2  2002-03-01  1691.0\n",
       "3  2002-04-01  1669.0\n",
       "4  2002-05-01  1716.0"
      ]
     },
     "execution_count": 69,
     "metadata": {},
     "output_type": "execute_result"
    }
   ],
   "source": [
    "permit.head()"
   ]
  },
  {
   "cell_type": "code",
   "execution_count": 70,
   "id": "3eac8b5b",
   "metadata": {},
   "outputs": [],
   "source": [
    "permit.set_index('DATE', inplace =True)\n",
    "permit.rename(columns= {'PERMIT': 'permit'}, inplace =True)\n",
    "permit.index = pd.to_datetime(permit.index)"
   ]
  },
  {
   "cell_type": "code",
   "execution_count": 71,
   "id": "60d5b67a",
   "metadata": {},
   "outputs": [
    {
     "data": {
      "text/html": [
       "<div>\n",
       "<style scoped>\n",
       "    .dataframe tbody tr th:only-of-type {\n",
       "        vertical-align: middle;\n",
       "    }\n",
       "\n",
       "    .dataframe tbody tr th {\n",
       "        vertical-align: top;\n",
       "    }\n",
       "\n",
       "    .dataframe thead th {\n",
       "        text-align: right;\n",
       "    }\n",
       "</style>\n",
       "<table border=\"1\" class=\"dataframe\">\n",
       "  <thead>\n",
       "    <tr style=\"text-align: right;\">\n",
       "      <th></th>\n",
       "      <th>permit</th>\n",
       "    </tr>\n",
       "    <tr>\n",
       "      <th>DATE</th>\n",
       "      <th></th>\n",
       "    </tr>\n",
       "  </thead>\n",
       "  <tbody>\n",
       "    <tr>\n",
       "      <th>2002-01-01</th>\n",
       "      <td>1665.0</td>\n",
       "    </tr>\n",
       "    <tr>\n",
       "      <th>2002-02-01</th>\n",
       "      <td>1787.0</td>\n",
       "    </tr>\n",
       "    <tr>\n",
       "      <th>2002-03-01</th>\n",
       "      <td>1691.0</td>\n",
       "    </tr>\n",
       "    <tr>\n",
       "      <th>2002-04-01</th>\n",
       "      <td>1669.0</td>\n",
       "    </tr>\n",
       "    <tr>\n",
       "      <th>2002-05-01</th>\n",
       "      <td>1716.0</td>\n",
       "    </tr>\n",
       "  </tbody>\n",
       "</table>\n",
       "</div>"
      ],
      "text/plain": [
       "            permit\n",
       "DATE              \n",
       "2002-01-01  1665.0\n",
       "2002-02-01  1787.0\n",
       "2002-03-01  1691.0\n",
       "2002-04-01  1669.0\n",
       "2002-05-01  1716.0"
      ]
     },
     "execution_count": 71,
     "metadata": {},
     "output_type": "execute_result"
    }
   ],
   "source": [
    "permit.head()"
   ]
  },
  {
   "cell_type": "code",
   "execution_count": 72,
   "id": "585cc69a",
   "metadata": {},
   "outputs": [
    {
     "data": {
      "text/plain": [
       "(262, 1)"
      ]
     },
     "execution_count": 72,
     "metadata": {},
     "output_type": "execute_result"
    }
   ],
   "source": [
    "permit.shape"
   ]
  },
  {
   "cell_type": "code",
   "execution_count": 73,
   "id": "161cab42",
   "metadata": {},
   "outputs": [],
   "source": [
    "permit.to_csv(\"Cleaned data/permit.csv\")\n"
   ]
  },
  {
   "cell_type": "code",
   "execution_count": 62,
   "id": "b24cdfab",
   "metadata": {},
   "outputs": [],
   "source": [
    "labor_percent = pd.read_csv(\"CIVPART.csv\")\n"
   ]
  },
  {
   "cell_type": "code",
   "execution_count": 63,
   "id": "1cf31ca6",
   "metadata": {},
   "outputs": [
    {
     "data": {
      "text/html": [
       "<div>\n",
       "<style scoped>\n",
       "    .dataframe tbody tr th:only-of-type {\n",
       "        vertical-align: middle;\n",
       "    }\n",
       "\n",
       "    .dataframe tbody tr th {\n",
       "        vertical-align: top;\n",
       "    }\n",
       "\n",
       "    .dataframe thead th {\n",
       "        text-align: right;\n",
       "    }\n",
       "</style>\n",
       "<table border=\"1\" class=\"dataframe\">\n",
       "  <thead>\n",
       "    <tr style=\"text-align: right;\">\n",
       "      <th></th>\n",
       "      <th>DATE</th>\n",
       "      <th>CIVPART</th>\n",
       "    </tr>\n",
       "  </thead>\n",
       "  <tbody>\n",
       "    <tr>\n",
       "      <th>0</th>\n",
       "      <td>2002-01-01</td>\n",
       "      <td>66.5</td>\n",
       "    </tr>\n",
       "    <tr>\n",
       "      <th>1</th>\n",
       "      <td>2002-02-01</td>\n",
       "      <td>66.8</td>\n",
       "    </tr>\n",
       "    <tr>\n",
       "      <th>2</th>\n",
       "      <td>2002-03-01</td>\n",
       "      <td>66.6</td>\n",
       "    </tr>\n",
       "    <tr>\n",
       "      <th>3</th>\n",
       "      <td>2002-04-01</td>\n",
       "      <td>66.7</td>\n",
       "    </tr>\n",
       "    <tr>\n",
       "      <th>4</th>\n",
       "      <td>2002-05-01</td>\n",
       "      <td>66.7</td>\n",
       "    </tr>\n",
       "  </tbody>\n",
       "</table>\n",
       "</div>"
      ],
      "text/plain": [
       "         DATE  CIVPART\n",
       "0  2002-01-01     66.5\n",
       "1  2002-02-01     66.8\n",
       "2  2002-03-01     66.6\n",
       "3  2002-04-01     66.7\n",
       "4  2002-05-01     66.7"
      ]
     },
     "execution_count": 63,
     "metadata": {},
     "output_type": "execute_result"
    }
   ],
   "source": [
    "labor_percent.head()"
   ]
  },
  {
   "cell_type": "code",
   "execution_count": 64,
   "id": "3d5daf56",
   "metadata": {},
   "outputs": [],
   "source": [
    "labor_percent.set_index('DATE', inplace =True)\n",
    "labor_percent.rename(columns= {'CIVPART': 'labor_percent'}, inplace =True)\n",
    "labor_percent.index = pd.to_datetime(labor_percent.index)"
   ]
  },
  {
   "cell_type": "code",
   "execution_count": 65,
   "id": "2da86cf5",
   "metadata": {},
   "outputs": [
    {
     "data": {
      "text/plain": [
       "(263, 1)"
      ]
     },
     "execution_count": 65,
     "metadata": {},
     "output_type": "execute_result"
    }
   ],
   "source": [
    "labor_percent.shape\n"
   ]
  },
  {
   "cell_type": "code",
   "execution_count": 67,
   "id": "51a6e235",
   "metadata": {},
   "outputs": [],
   "source": [
    "labor_percent.to_csv(\"Cleaned data/labor_percent.csv\")\n"
   ]
  },
  {
   "cell_type": "code",
   "execution_count": 66,
   "id": "202a13e9",
   "metadata": {},
   "outputs": [],
   "source": [
    "monthly_supply = pd.read_csv(\"MSACSR.csv\")\n"
   ]
  },
  {
   "cell_type": "code",
   "execution_count": 62,
   "id": "b3112697",
   "metadata": {},
   "outputs": [
    {
     "data": {
      "text/html": [
       "<div>\n",
       "<style scoped>\n",
       "    .dataframe tbody tr th:only-of-type {\n",
       "        vertical-align: middle;\n",
       "    }\n",
       "\n",
       "    .dataframe tbody tr th {\n",
       "        vertical-align: top;\n",
       "    }\n",
       "\n",
       "    .dataframe thead th {\n",
       "        text-align: right;\n",
       "    }\n",
       "</style>\n",
       "<table border=\"1\" class=\"dataframe\">\n",
       "  <thead>\n",
       "    <tr style=\"text-align: right;\">\n",
       "      <th></th>\n",
       "      <th>DATE</th>\n",
       "      <th>MSACSR</th>\n",
       "    </tr>\n",
       "  </thead>\n",
       "  <tbody>\n",
       "    <tr>\n",
       "      <th>0</th>\n",
       "      <td>2002-01-01</td>\n",
       "      <td>4.2</td>\n",
       "    </tr>\n",
       "    <tr>\n",
       "      <th>1</th>\n",
       "      <td>2002-02-01</td>\n",
       "      <td>4.0</td>\n",
       "    </tr>\n",
       "    <tr>\n",
       "      <th>2</th>\n",
       "      <td>2002-03-01</td>\n",
       "      <td>4.1</td>\n",
       "    </tr>\n",
       "    <tr>\n",
       "      <th>3</th>\n",
       "      <td>2002-04-01</td>\n",
       "      <td>4.3</td>\n",
       "    </tr>\n",
       "    <tr>\n",
       "      <th>4</th>\n",
       "      <td>2002-05-01</td>\n",
       "      <td>4.0</td>\n",
       "    </tr>\n",
       "  </tbody>\n",
       "</table>\n",
       "</div>"
      ],
      "text/plain": [
       "         DATE  MSACSR\n",
       "0  2002-01-01     4.2\n",
       "1  2002-02-01     4.0\n",
       "2  2002-03-01     4.1\n",
       "3  2002-04-01     4.3\n",
       "4  2002-05-01     4.0"
      ]
     },
     "execution_count": 62,
     "metadata": {},
     "output_type": "execute_result"
    }
   ],
   "source": [
    "monthly_supply.head()"
   ]
  },
  {
   "cell_type": "code",
   "execution_count": 63,
   "id": "87cb9dc4",
   "metadata": {},
   "outputs": [],
   "source": [
    "monthly_supply.set_index('DATE',inplace=True)\n",
    "monthly_supply.rename(columns={'MSACSR':'monthly_supply'},inplace=True)\n",
    "monthly_supply.index=pd.to_datetime(monthly_supply.index)"
   ]
  },
  {
   "cell_type": "code",
   "execution_count": 64,
   "id": "9f9e9041",
   "metadata": {},
   "outputs": [
    {
     "data": {
      "text/plain": [
       "(262, 1)"
      ]
     },
     "execution_count": 64,
     "metadata": {},
     "output_type": "execute_result"
    }
   ],
   "source": [
    "monthly_supply.shape\n"
   ]
  },
  {
   "cell_type": "code",
   "execution_count": 65,
   "id": "75aaa881",
   "metadata": {},
   "outputs": [],
   "source": [
    "monthly_supply.to_csv(\"Cleaned data/monthly_supply.csv\")\n"
   ]
  },
  {
   "cell_type": "code",
   "execution_count": 3,
   "id": "93bbf9ac",
   "metadata": {},
   "outputs": [],
   "source": [
    "House_starts = pd.read_csv(\"HOUST.csv\")\n"
   ]
  },
  {
   "cell_type": "code",
   "execution_count": 4,
   "id": "6774b593",
   "metadata": {},
   "outputs": [
    {
     "data": {
      "text/html": [
       "<div>\n",
       "<style scoped>\n",
       "    .dataframe tbody tr th:only-of-type {\n",
       "        vertical-align: middle;\n",
       "    }\n",
       "\n",
       "    .dataframe tbody tr th {\n",
       "        vertical-align: top;\n",
       "    }\n",
       "\n",
       "    .dataframe thead th {\n",
       "        text-align: right;\n",
       "    }\n",
       "</style>\n",
       "<table border=\"1\" class=\"dataframe\">\n",
       "  <thead>\n",
       "    <tr style=\"text-align: right;\">\n",
       "      <th></th>\n",
       "      <th>DATE</th>\n",
       "      <th>HOUST</th>\n",
       "    </tr>\n",
       "  </thead>\n",
       "  <tbody>\n",
       "    <tr>\n",
       "      <th>0</th>\n",
       "      <td>2002-01-01</td>\n",
       "      <td>1698.0</td>\n",
       "    </tr>\n",
       "    <tr>\n",
       "      <th>1</th>\n",
       "      <td>2002-02-01</td>\n",
       "      <td>1829.0</td>\n",
       "    </tr>\n",
       "    <tr>\n",
       "      <th>2</th>\n",
       "      <td>2002-03-01</td>\n",
       "      <td>1642.0</td>\n",
       "    </tr>\n",
       "    <tr>\n",
       "      <th>3</th>\n",
       "      <td>2002-04-01</td>\n",
       "      <td>1592.0</td>\n",
       "    </tr>\n",
       "    <tr>\n",
       "      <th>4</th>\n",
       "      <td>2002-05-01</td>\n",
       "      <td>1764.0</td>\n",
       "    </tr>\n",
       "  </tbody>\n",
       "</table>\n",
       "</div>"
      ],
      "text/plain": [
       "         DATE   HOUST\n",
       "0  2002-01-01  1698.0\n",
       "1  2002-02-01  1829.0\n",
       "2  2002-03-01  1642.0\n",
       "3  2002-04-01  1592.0\n",
       "4  2002-05-01  1764.0"
      ]
     },
     "execution_count": 4,
     "metadata": {},
     "output_type": "execute_result"
    }
   ],
   "source": [
    "House_starts.head()"
   ]
  },
  {
   "cell_type": "code",
   "execution_count": 5,
   "id": "6258c5a9",
   "metadata": {},
   "outputs": [],
   "source": [
    "House_starts.set_index('DATE', inplace =True)\n",
    "House_starts.rename(columns= {'HOUST': 'house_st'}, inplace =True)\n",
    "House_starts.index = pd.to_datetime(House_starts.index)"
   ]
  },
  {
   "cell_type": "code",
   "execution_count": 6,
   "id": "058c6f9a",
   "metadata": {},
   "outputs": [
    {
     "data": {
      "text/plain": [
       "(262, 1)"
      ]
     },
     "execution_count": 6,
     "metadata": {},
     "output_type": "execute_result"
    }
   ],
   "source": [
    "House_starts.shape\n"
   ]
  },
  {
   "cell_type": "code",
   "execution_count": 7,
   "id": "9a2dd4ac",
   "metadata": {},
   "outputs": [],
   "source": [
    "House_starts.to_csv(\"Cleaned data/House_starts.csv\")\n"
   ]
  },
  {
   "cell_type": "code",
   "execution_count": 10,
   "id": "c5ab7e41",
   "metadata": {},
   "outputs": [],
   "source": [
    "MSPUS = pd.read_csv(\"MSPUS.csv\")\n"
   ]
  },
  {
   "cell_type": "code",
   "execution_count": 11,
   "id": "808f7d01",
   "metadata": {},
   "outputs": [
    {
     "data": {
      "text/html": [
       "<div>\n",
       "<style scoped>\n",
       "    .dataframe tbody tr th:only-of-type {\n",
       "        vertical-align: middle;\n",
       "    }\n",
       "\n",
       "    .dataframe tbody tr th {\n",
       "        vertical-align: top;\n",
       "    }\n",
       "\n",
       "    .dataframe thead th {\n",
       "        text-align: right;\n",
       "    }\n",
       "</style>\n",
       "<table border=\"1\" class=\"dataframe\">\n",
       "  <thead>\n",
       "    <tr style=\"text-align: right;\">\n",
       "      <th></th>\n",
       "      <th>DATE</th>\n",
       "      <th>MSPUS</th>\n",
       "    </tr>\n",
       "  </thead>\n",
       "  <tbody>\n",
       "    <tr>\n",
       "      <th>0</th>\n",
       "      <td>2002-01-01</td>\n",
       "      <td>188700.0</td>\n",
       "    </tr>\n",
       "    <tr>\n",
       "      <th>1</th>\n",
       "      <td>2002-04-01</td>\n",
       "      <td>187200.0</td>\n",
       "    </tr>\n",
       "    <tr>\n",
       "      <th>2</th>\n",
       "      <td>2002-07-01</td>\n",
       "      <td>178100.0</td>\n",
       "    </tr>\n",
       "    <tr>\n",
       "      <th>3</th>\n",
       "      <td>2002-10-01</td>\n",
       "      <td>190100.0</td>\n",
       "    </tr>\n",
       "    <tr>\n",
       "      <th>4</th>\n",
       "      <td>2003-01-01</td>\n",
       "      <td>186000.0</td>\n",
       "    </tr>\n",
       "  </tbody>\n",
       "</table>\n",
       "</div>"
      ],
      "text/plain": [
       "         DATE     MSPUS\n",
       "0  2002-01-01  188700.0\n",
       "1  2002-04-01  187200.0\n",
       "2  2002-07-01  178100.0\n",
       "3  2002-10-01  190100.0\n",
       "4  2003-01-01  186000.0"
      ]
     },
     "execution_count": 11,
     "metadata": {},
     "output_type": "execute_result"
    }
   ],
   "source": [
    "MSPUS.head()"
   ]
  },
  {
   "cell_type": "code",
   "execution_count": 12,
   "id": "f6066ca4",
   "metadata": {},
   "outputs": [
    {
     "data": {
      "text/plain": [
       "(87, 2)"
      ]
     },
     "execution_count": 12,
     "metadata": {},
     "output_type": "execute_result"
    }
   ],
   "source": [
    "MSPUS.shape"
   ]
  },
  {
   "cell_type": "code",
   "execution_count": 13,
   "id": "19615e0a",
   "metadata": {},
   "outputs": [],
   "source": [
    "MSPUS.set_index('DATE', inplace =True)\n",
    "MSPUS.index = pd.to_datetime(MSPUS.index)\n",
    "\n",
    "# Resampling\n",
    "MSPUS = MSPUS.resample('M').ffill()\n",
    "# # Set the day of the index to 1\n",
    "MSPUS.index = MSPUS.index.map(lambda x: x.replace(day=1))\n"
   ]
  },
  {
   "cell_type": "code",
   "execution_count": 14,
   "id": "9ca09421",
   "metadata": {},
   "outputs": [
    {
     "data": {
      "text/html": [
       "<div>\n",
       "<style scoped>\n",
       "    .dataframe tbody tr th:only-of-type {\n",
       "        vertical-align: middle;\n",
       "    }\n",
       "\n",
       "    .dataframe tbody tr th {\n",
       "        vertical-align: top;\n",
       "    }\n",
       "\n",
       "    .dataframe thead th {\n",
       "        text-align: right;\n",
       "    }\n",
       "</style>\n",
       "<table border=\"1\" class=\"dataframe\">\n",
       "  <thead>\n",
       "    <tr style=\"text-align: right;\">\n",
       "      <th></th>\n",
       "      <th>MSPUS</th>\n",
       "    </tr>\n",
       "    <tr>\n",
       "      <th>DATE</th>\n",
       "      <th></th>\n",
       "    </tr>\n",
       "  </thead>\n",
       "  <tbody>\n",
       "    <tr>\n",
       "      <th>2002-01-01</th>\n",
       "      <td>188700.0</td>\n",
       "    </tr>\n",
       "    <tr>\n",
       "      <th>2002-02-01</th>\n",
       "      <td>188700.0</td>\n",
       "    </tr>\n",
       "    <tr>\n",
       "      <th>2002-03-01</th>\n",
       "      <td>188700.0</td>\n",
       "    </tr>\n",
       "    <tr>\n",
       "      <th>2002-04-01</th>\n",
       "      <td>187200.0</td>\n",
       "    </tr>\n",
       "    <tr>\n",
       "      <th>2002-05-01</th>\n",
       "      <td>187200.0</td>\n",
       "    </tr>\n",
       "  </tbody>\n",
       "</table>\n",
       "</div>"
      ],
      "text/plain": [
       "               MSPUS\n",
       "DATE                \n",
       "2002-01-01  188700.0\n",
       "2002-02-01  188700.0\n",
       "2002-03-01  188700.0\n",
       "2002-04-01  187200.0\n",
       "2002-05-01  187200.0"
      ]
     },
     "execution_count": 14,
     "metadata": {},
     "output_type": "execute_result"
    }
   ],
   "source": [
    "MSPUS.head()"
   ]
  },
  {
   "cell_type": "code",
   "execution_count": 15,
   "id": "56ad679f",
   "metadata": {},
   "outputs": [
    {
     "data": {
      "text/plain": [
       "(259, 1)"
      ]
     },
     "execution_count": 15,
     "metadata": {},
     "output_type": "execute_result"
    }
   ],
   "source": [
    "MSPUS.shape"
   ]
  },
  {
   "cell_type": "code",
   "execution_count": 16,
   "id": "87291c4a",
   "metadata": {},
   "outputs": [],
   "source": [
    "PPI_Cement = pd.read_csv(\"PCU327310327310.csv\")\n"
   ]
  },
  {
   "cell_type": "code",
   "execution_count": 17,
   "id": "4543d6d5",
   "metadata": {},
   "outputs": [
    {
     "data": {
      "text/html": [
       "<div>\n",
       "<style scoped>\n",
       "    .dataframe tbody tr th:only-of-type {\n",
       "        vertical-align: middle;\n",
       "    }\n",
       "\n",
       "    .dataframe tbody tr th {\n",
       "        vertical-align: top;\n",
       "    }\n",
       "\n",
       "    .dataframe thead th {\n",
       "        text-align: right;\n",
       "    }\n",
       "</style>\n",
       "<table border=\"1\" class=\"dataframe\">\n",
       "  <thead>\n",
       "    <tr style=\"text-align: right;\">\n",
       "      <th></th>\n",
       "      <th>DATE</th>\n",
       "      <th>PCU327310327310</th>\n",
       "    </tr>\n",
       "  </thead>\n",
       "  <tbody>\n",
       "    <tr>\n",
       "      <th>0</th>\n",
       "      <td>2002-01-01</td>\n",
       "      <td>148.8</td>\n",
       "    </tr>\n",
       "    <tr>\n",
       "      <th>1</th>\n",
       "      <td>2002-02-01</td>\n",
       "      <td>148.4</td>\n",
       "    </tr>\n",
       "    <tr>\n",
       "      <th>2</th>\n",
       "      <td>2002-03-01</td>\n",
       "      <td>147.9</td>\n",
       "    </tr>\n",
       "    <tr>\n",
       "      <th>3</th>\n",
       "      <td>2002-04-01</td>\n",
       "      <td>151.8</td>\n",
       "    </tr>\n",
       "    <tr>\n",
       "      <th>4</th>\n",
       "      <td>2002-05-01</td>\n",
       "      <td>152.2</td>\n",
       "    </tr>\n",
       "  </tbody>\n",
       "</table>\n",
       "</div>"
      ],
      "text/plain": [
       "         DATE  PCU327310327310\n",
       "0  2002-01-01            148.8\n",
       "1  2002-02-01            148.4\n",
       "2  2002-03-01            147.9\n",
       "3  2002-04-01            151.8\n",
       "4  2002-05-01            152.2"
      ]
     },
     "execution_count": 17,
     "metadata": {},
     "output_type": "execute_result"
    }
   ],
   "source": [
    "PPI_Cement.head()"
   ]
  },
  {
   "cell_type": "code",
   "execution_count": 18,
   "id": "b6e74f75",
   "metadata": {},
   "outputs": [],
   "source": [
    "PPI_Cement.set_index('DATE', inplace =True)\n",
    "PPI_Cement.rename(columns= {'PCU327310327310': 'PPI_Cement'}, inplace =True)\n",
    "PPI_Cement.index = pd.to_datetime(PPI_Cement.index)"
   ]
  },
  {
   "cell_type": "code",
   "execution_count": 19,
   "id": "c512eb85",
   "metadata": {},
   "outputs": [
    {
     "data": {
      "text/html": [
       "<div>\n",
       "<style scoped>\n",
       "    .dataframe tbody tr th:only-of-type {\n",
       "        vertical-align: middle;\n",
       "    }\n",
       "\n",
       "    .dataframe tbody tr th {\n",
       "        vertical-align: top;\n",
       "    }\n",
       "\n",
       "    .dataframe thead th {\n",
       "        text-align: right;\n",
       "    }\n",
       "</style>\n",
       "<table border=\"1\" class=\"dataframe\">\n",
       "  <thead>\n",
       "    <tr style=\"text-align: right;\">\n",
       "      <th></th>\n",
       "      <th>PPI_Cement</th>\n",
       "    </tr>\n",
       "    <tr>\n",
       "      <th>DATE</th>\n",
       "      <th></th>\n",
       "    </tr>\n",
       "  </thead>\n",
       "  <tbody>\n",
       "    <tr>\n",
       "      <th>2002-01-01</th>\n",
       "      <td>148.8</td>\n",
       "    </tr>\n",
       "    <tr>\n",
       "      <th>2002-02-01</th>\n",
       "      <td>148.4</td>\n",
       "    </tr>\n",
       "    <tr>\n",
       "      <th>2002-03-01</th>\n",
       "      <td>147.9</td>\n",
       "    </tr>\n",
       "    <tr>\n",
       "      <th>2002-04-01</th>\n",
       "      <td>151.8</td>\n",
       "    </tr>\n",
       "    <tr>\n",
       "      <th>2002-05-01</th>\n",
       "      <td>152.2</td>\n",
       "    </tr>\n",
       "  </tbody>\n",
       "</table>\n",
       "</div>"
      ],
      "text/plain": [
       "            PPI_Cement\n",
       "DATE                  \n",
       "2002-01-01       148.8\n",
       "2002-02-01       148.4\n",
       "2002-03-01       147.9\n",
       "2002-04-01       151.8\n",
       "2002-05-01       152.2"
      ]
     },
     "execution_count": 19,
     "metadata": {},
     "output_type": "execute_result"
    }
   ],
   "source": [
    "PPI_Cement.head()"
   ]
  },
  {
   "cell_type": "code",
   "execution_count": 20,
   "id": "7cf47f46",
   "metadata": {},
   "outputs": [],
   "source": [
    "PPI_Cement.to_csv(\"Cleaned data/PPI_Cement.csv\")\n"
   ]
  },
  {
   "cell_type": "code",
   "execution_count": 21,
   "id": "54864409",
   "metadata": {},
   "outputs": [],
   "source": [
    "PPI_Concrete = pd.read_csv(\"PCU32733132733106.csv\")\n"
   ]
  },
  {
   "cell_type": "code",
   "execution_count": 22,
   "id": "9d50d693",
   "metadata": {},
   "outputs": [
    {
     "data": {
      "text/html": [
       "<div>\n",
       "<style scoped>\n",
       "    .dataframe tbody tr th:only-of-type {\n",
       "        vertical-align: middle;\n",
       "    }\n",
       "\n",
       "    .dataframe tbody tr th {\n",
       "        vertical-align: top;\n",
       "    }\n",
       "\n",
       "    .dataframe thead th {\n",
       "        text-align: right;\n",
       "    }\n",
       "</style>\n",
       "<table border=\"1\" class=\"dataframe\">\n",
       "  <thead>\n",
       "    <tr style=\"text-align: right;\">\n",
       "      <th></th>\n",
       "      <th>DATE</th>\n",
       "      <th>PCU32733132733106</th>\n",
       "    </tr>\n",
       "  </thead>\n",
       "  <tbody>\n",
       "    <tr>\n",
       "      <th>0</th>\n",
       "      <td>2002-06-01</td>\n",
       "      <td>150.5</td>\n",
       "    </tr>\n",
       "    <tr>\n",
       "      <th>1</th>\n",
       "      <td>2002-07-01</td>\n",
       "      <td>150.5</td>\n",
       "    </tr>\n",
       "    <tr>\n",
       "      <th>2</th>\n",
       "      <td>2002-08-01</td>\n",
       "      <td>150.5</td>\n",
       "    </tr>\n",
       "    <tr>\n",
       "      <th>3</th>\n",
       "      <td>2002-09-01</td>\n",
       "      <td>150.5</td>\n",
       "    </tr>\n",
       "    <tr>\n",
       "      <th>4</th>\n",
       "      <td>2002-10-01</td>\n",
       "      <td>150.5</td>\n",
       "    </tr>\n",
       "  </tbody>\n",
       "</table>\n",
       "</div>"
      ],
      "text/plain": [
       "         DATE  PCU32733132733106\n",
       "0  2002-06-01              150.5\n",
       "1  2002-07-01              150.5\n",
       "2  2002-08-01              150.5\n",
       "3  2002-09-01              150.5\n",
       "4  2002-10-01              150.5"
      ]
     },
     "execution_count": 22,
     "metadata": {},
     "output_type": "execute_result"
    }
   ],
   "source": [
    "PPI_Concrete.head()\n"
   ]
  },
  {
   "cell_type": "code",
   "execution_count": 23,
   "id": "12e4bf0b",
   "metadata": {},
   "outputs": [],
   "source": [
    "PPI_Concrete.set_index('DATE', inplace =True)\n",
    "PPI_Concrete.rename(columns= {'PCU32733132733106': 'PPI_Concrete'}, inplace =True)\n",
    "PPI_Concrete.index = pd.to_datetime(PPI_Concrete.index)"
   ]
  },
  {
   "cell_type": "code",
   "execution_count": 24,
   "id": "3ffcd32c",
   "metadata": {},
   "outputs": [
    {
     "data": {
      "text/plain": [
       "(257, 1)"
      ]
     },
     "execution_count": 24,
     "metadata": {},
     "output_type": "execute_result"
    }
   ],
   "source": [
    "PPI_Concrete.shape"
   ]
  },
  {
   "cell_type": "code",
   "execution_count": 30,
   "id": "49501cbd",
   "metadata": {},
   "outputs": [],
   "source": [
    "PPI_Concrete.to_csv(\"Cleaned data/PPI_Concrete.csv\")\n"
   ]
  },
  {
   "cell_type": "code",
   "execution_count": 26,
   "id": "304c7e93",
   "metadata": {},
   "outputs": [],
   "source": [
    "all_Const_Emp = pd.read_csv(\"CES2023610001.csv\")\n"
   ]
  },
  {
   "cell_type": "code",
   "execution_count": 27,
   "id": "c3a41852",
   "metadata": {},
   "outputs": [
    {
     "data": {
      "text/html": [
       "<div>\n",
       "<style scoped>\n",
       "    .dataframe tbody tr th:only-of-type {\n",
       "        vertical-align: middle;\n",
       "    }\n",
       "\n",
       "    .dataframe tbody tr th {\n",
       "        vertical-align: top;\n",
       "    }\n",
       "\n",
       "    .dataframe thead th {\n",
       "        text-align: right;\n",
       "    }\n",
       "</style>\n",
       "<table border=\"1\" class=\"dataframe\">\n",
       "  <thead>\n",
       "    <tr style=\"text-align: right;\">\n",
       "      <th></th>\n",
       "      <th>DATE</th>\n",
       "      <th>CES2023610001</th>\n",
       "    </tr>\n",
       "  </thead>\n",
       "  <tbody>\n",
       "    <tr>\n",
       "      <th>0</th>\n",
       "      <td>2002-01-01</td>\n",
       "      <td>785.8</td>\n",
       "    </tr>\n",
       "    <tr>\n",
       "      <th>1</th>\n",
       "      <td>2002-02-01</td>\n",
       "      <td>794.9</td>\n",
       "    </tr>\n",
       "    <tr>\n",
       "      <th>2</th>\n",
       "      <td>2002-03-01</td>\n",
       "      <td>798.8</td>\n",
       "    </tr>\n",
       "    <tr>\n",
       "      <th>3</th>\n",
       "      <td>2002-04-01</td>\n",
       "      <td>796.8</td>\n",
       "    </tr>\n",
       "    <tr>\n",
       "      <th>4</th>\n",
       "      <td>2002-05-01</td>\n",
       "      <td>799.3</td>\n",
       "    </tr>\n",
       "  </tbody>\n",
       "</table>\n",
       "</div>"
      ],
      "text/plain": [
       "         DATE  CES2023610001\n",
       "0  2002-01-01          785.8\n",
       "1  2002-02-01          794.9\n",
       "2  2002-03-01          798.8\n",
       "3  2002-04-01          796.8\n",
       "4  2002-05-01          799.3"
      ]
     },
     "execution_count": 27,
     "metadata": {},
     "output_type": "execute_result"
    }
   ],
   "source": [
    "all_Const_Emp.head()"
   ]
  },
  {
   "cell_type": "code",
   "execution_count": 28,
   "id": "900bd631",
   "metadata": {},
   "outputs": [],
   "source": [
    "all_Const_Emp.set_index('DATE', inplace =True)\n",
    "all_Const_Emp.rename(columns= {'CES2023610001': 'all_Const_Emp'}, inplace =True)\n",
    "all_Const_Emp.index = pd.to_datetime(all_Const_Emp.index)"
   ]
  },
  {
   "cell_type": "code",
   "execution_count": 29,
   "id": "f5ff2ca4",
   "metadata": {},
   "outputs": [
    {
     "data": {
      "text/plain": [
       "(263, 1)"
      ]
     },
     "execution_count": 29,
     "metadata": {},
     "output_type": "execute_result"
    }
   ],
   "source": [
    "all_Const_Emp.shape"
   ]
  },
  {
   "cell_type": "code",
   "execution_count": 31,
   "id": "a81e8130",
   "metadata": {},
   "outputs": [],
   "source": [
    "IPI_Cement = pd.read_csv(\"IPN32731S.csv\")\n"
   ]
  },
  {
   "cell_type": "code",
   "execution_count": 32,
   "id": "431e3337",
   "metadata": {},
   "outputs": [
    {
     "data": {
      "text/html": [
       "<div>\n",
       "<style scoped>\n",
       "    .dataframe tbody tr th:only-of-type {\n",
       "        vertical-align: middle;\n",
       "    }\n",
       "\n",
       "    .dataframe tbody tr th {\n",
       "        vertical-align: top;\n",
       "    }\n",
       "\n",
       "    .dataframe thead th {\n",
       "        text-align: right;\n",
       "    }\n",
       "</style>\n",
       "<table border=\"1\" class=\"dataframe\">\n",
       "  <thead>\n",
       "    <tr style=\"text-align: right;\">\n",
       "      <th></th>\n",
       "      <th>DATE</th>\n",
       "      <th>IPN32731S</th>\n",
       "    </tr>\n",
       "  </thead>\n",
       "  <tbody>\n",
       "    <tr>\n",
       "      <th>0</th>\n",
       "      <td>2002-01-01</td>\n",
       "      <td>154.1368</td>\n",
       "    </tr>\n",
       "    <tr>\n",
       "      <th>1</th>\n",
       "      <td>2002-02-01</td>\n",
       "      <td>153.3106</td>\n",
       "    </tr>\n",
       "    <tr>\n",
       "      <th>2</th>\n",
       "      <td>2002-03-01</td>\n",
       "      <td>144.7966</td>\n",
       "    </tr>\n",
       "    <tr>\n",
       "      <th>3</th>\n",
       "      <td>2002-04-01</td>\n",
       "      <td>142.7707</td>\n",
       "    </tr>\n",
       "    <tr>\n",
       "      <th>4</th>\n",
       "      <td>2002-05-01</td>\n",
       "      <td>141.9094</td>\n",
       "    </tr>\n",
       "  </tbody>\n",
       "</table>\n",
       "</div>"
      ],
      "text/plain": [
       "         DATE  IPN32731S\n",
       "0  2002-01-01   154.1368\n",
       "1  2002-02-01   153.3106\n",
       "2  2002-03-01   144.7966\n",
       "3  2002-04-01   142.7707\n",
       "4  2002-05-01   141.9094"
      ]
     },
     "execution_count": 32,
     "metadata": {},
     "output_type": "execute_result"
    }
   ],
   "source": [
    "IPI_Cement.head()\n"
   ]
  },
  {
   "cell_type": "code",
   "execution_count": 33,
   "id": "13565676",
   "metadata": {},
   "outputs": [],
   "source": [
    "IPI_Cement.set_index('DATE', inplace =True)\n",
    "IPI_Cement.rename(columns= {'IPN32731S': 'IPI_Cement'}, inplace =True)\n",
    "IPI_Cement.index = pd.to_datetime(IPI_Cement.index)\n"
   ]
  },
  {
   "cell_type": "code",
   "execution_count": 34,
   "id": "5011a720",
   "metadata": {},
   "outputs": [
    {
     "data": {
      "text/plain": [
       "(260, 1)"
      ]
     },
     "execution_count": 34,
     "metadata": {},
     "output_type": "execute_result"
    }
   ],
   "source": [
    "IPI_Cement.shape"
   ]
  },
  {
   "cell_type": "code",
   "execution_count": 35,
   "id": "a3ed2890",
   "metadata": {},
   "outputs": [],
   "source": [
    "IPI_Cement.to_csv(\"Cleaned data/IPI_Cement.csv\")\n"
   ]
  },
  {
   "cell_type": "code",
   "execution_count": 38,
   "id": "b37d7672",
   "metadata": {},
   "outputs": [],
   "source": [
    "home_ow_rate = pd.read_csv(\"RSAHORUSQ156S.csv\")\n"
   ]
  },
  {
   "cell_type": "code",
   "execution_count": 39,
   "id": "ef0c7225",
   "metadata": {},
   "outputs": [
    {
     "data": {
      "text/html": [
       "<div>\n",
       "<style scoped>\n",
       "    .dataframe tbody tr th:only-of-type {\n",
       "        vertical-align: middle;\n",
       "    }\n",
       "\n",
       "    .dataframe tbody tr th {\n",
       "        vertical-align: top;\n",
       "    }\n",
       "\n",
       "    .dataframe thead th {\n",
       "        text-align: right;\n",
       "    }\n",
       "</style>\n",
       "<table border=\"1\" class=\"dataframe\">\n",
       "  <thead>\n",
       "    <tr style=\"text-align: right;\">\n",
       "      <th></th>\n",
       "      <th>DATE</th>\n",
       "      <th>RSAHORUSQ156S</th>\n",
       "    </tr>\n",
       "  </thead>\n",
       "  <tbody>\n",
       "    <tr>\n",
       "      <th>0</th>\n",
       "      <td>2002-01-01</td>\n",
       "      <td>67.9</td>\n",
       "    </tr>\n",
       "    <tr>\n",
       "      <th>1</th>\n",
       "      <td>2002-04-01</td>\n",
       "      <td>67.8</td>\n",
       "    </tr>\n",
       "    <tr>\n",
       "      <th>2</th>\n",
       "      <td>2002-07-01</td>\n",
       "      <td>67.9</td>\n",
       "    </tr>\n",
       "    <tr>\n",
       "      <th>3</th>\n",
       "      <td>2002-10-01</td>\n",
       "      <td>68.2</td>\n",
       "    </tr>\n",
       "    <tr>\n",
       "      <th>4</th>\n",
       "      <td>2003-01-01</td>\n",
       "      <td>68.1</td>\n",
       "    </tr>\n",
       "  </tbody>\n",
       "</table>\n",
       "</div>"
      ],
      "text/plain": [
       "         DATE  RSAHORUSQ156S\n",
       "0  2002-01-01           67.9\n",
       "1  2002-04-01           67.8\n",
       "2  2002-07-01           67.9\n",
       "3  2002-10-01           68.2\n",
       "4  2003-01-01           68.1"
      ]
     },
     "execution_count": 39,
     "metadata": {},
     "output_type": "execute_result"
    }
   ],
   "source": [
    "home_ow_rate.head()"
   ]
  },
  {
   "cell_type": "code",
   "execution_count": 40,
   "id": "500bc119",
   "metadata": {},
   "outputs": [],
   "source": [
    "home_ow_rate.set_index('DATE', inplace =True)\n",
    "home_ow_rate.index = pd.to_datetime(home_ow_rate.index)\n",
    "home_ow_rate.rename(columns= {'RSAHORUSQ156S': 'home_ow_rate'}, inplace =True)\n",
    "\n",
    "# Resampling\n",
    "home_ow_rate = home_ow_rate.resample('M').ffill()\n",
    "\n",
    "# # Set the day of the index to 1\n",
    "home_ow_rate.index = home_ow_rate.index.map(lambda x: x.replace(day=1))\n"
   ]
  },
  {
   "cell_type": "code",
   "execution_count": 41,
   "id": "1e84b8be",
   "metadata": {},
   "outputs": [
    {
     "data": {
      "text/plain": [
       "(259, 1)"
      ]
     },
     "execution_count": 41,
     "metadata": {},
     "output_type": "execute_result"
    }
   ],
   "source": [
    "home_ow_rate.shape"
   ]
  },
  {
   "cell_type": "code",
   "execution_count": 42,
   "id": "736781e9",
   "metadata": {},
   "outputs": [],
   "source": [
    "p_saving_rate =pd.read_csv(\"PSAVERT.csv\")\n"
   ]
  },
  {
   "cell_type": "code",
   "execution_count": 43,
   "id": "f1d0b3b5",
   "metadata": {},
   "outputs": [
    {
     "data": {
      "text/html": [
       "<div>\n",
       "<style scoped>\n",
       "    .dataframe tbody tr th:only-of-type {\n",
       "        vertical-align: middle;\n",
       "    }\n",
       "\n",
       "    .dataframe tbody tr th {\n",
       "        vertical-align: top;\n",
       "    }\n",
       "\n",
       "    .dataframe thead th {\n",
       "        text-align: right;\n",
       "    }\n",
       "</style>\n",
       "<table border=\"1\" class=\"dataframe\">\n",
       "  <thead>\n",
       "    <tr style=\"text-align: right;\">\n",
       "      <th></th>\n",
       "      <th>DATE</th>\n",
       "      <th>PSAVERT</th>\n",
       "    </tr>\n",
       "  </thead>\n",
       "  <tbody>\n",
       "    <tr>\n",
       "      <th>0</th>\n",
       "      <td>2002-01-01</td>\n",
       "      <td>5.6</td>\n",
       "    </tr>\n",
       "    <tr>\n",
       "      <th>1</th>\n",
       "      <td>2002-02-01</td>\n",
       "      <td>5.4</td>\n",
       "    </tr>\n",
       "    <tr>\n",
       "      <th>2</th>\n",
       "      <td>2002-03-01</td>\n",
       "      <td>5.5</td>\n",
       "    </tr>\n",
       "    <tr>\n",
       "      <th>3</th>\n",
       "      <td>2002-04-01</td>\n",
       "      <td>5.4</td>\n",
       "    </tr>\n",
       "    <tr>\n",
       "      <th>4</th>\n",
       "      <td>2002-05-01</td>\n",
       "      <td>6.1</td>\n",
       "    </tr>\n",
       "  </tbody>\n",
       "</table>\n",
       "</div>"
      ],
      "text/plain": [
       "         DATE  PSAVERT\n",
       "0  2002-01-01      5.6\n",
       "1  2002-02-01      5.4\n",
       "2  2002-03-01      5.5\n",
       "3  2002-04-01      5.4\n",
       "4  2002-05-01      6.1"
      ]
     },
     "execution_count": 43,
     "metadata": {},
     "output_type": "execute_result"
    }
   ],
   "source": [
    "p_saving_rate.head()\n"
   ]
  },
  {
   "cell_type": "code",
   "execution_count": 44,
   "id": "98f261fd",
   "metadata": {},
   "outputs": [],
   "source": [
    "p_saving_rate.set_index('DATE', inplace =True)\n",
    "p_saving_rate.rename(columns= {'PSAVERT': 'p_saving_rate'}, inplace =True)\n",
    "p_saving_rate.index = pd.to_datetime(p_saving_rate.index)"
   ]
  },
  {
   "cell_type": "code",
   "execution_count": 45,
   "id": "d0331097",
   "metadata": {},
   "outputs": [
    {
     "data": {
      "text/plain": [
       "(262, 1)"
      ]
     },
     "execution_count": 45,
     "metadata": {},
     "output_type": "execute_result"
    }
   ],
   "source": [
    "p_saving_rate.shape"
   ]
  },
  {
   "cell_type": "code",
   "execution_count": 46,
   "id": "5be74fa2",
   "metadata": {},
   "outputs": [],
   "source": [
    "p_saving_rate.to_csv(\"Cleaned data/p_saving_rate.csv\")\n"
   ]
  },
  {
   "cell_type": "code",
   "execution_count": 48,
   "id": "1dea0400",
   "metadata": {},
   "outputs": [],
   "source": [
    "new_private_house = pd.read_csv(\"COMPUTSA.csv\")\n"
   ]
  },
  {
   "cell_type": "code",
   "execution_count": 49,
   "id": "c6b0d272",
   "metadata": {},
   "outputs": [
    {
     "data": {
      "text/html": [
       "<div>\n",
       "<style scoped>\n",
       "    .dataframe tbody tr th:only-of-type {\n",
       "        vertical-align: middle;\n",
       "    }\n",
       "\n",
       "    .dataframe tbody tr th {\n",
       "        vertical-align: top;\n",
       "    }\n",
       "\n",
       "    .dataframe thead th {\n",
       "        text-align: right;\n",
       "    }\n",
       "</style>\n",
       "<table border=\"1\" class=\"dataframe\">\n",
       "  <thead>\n",
       "    <tr style=\"text-align: right;\">\n",
       "      <th></th>\n",
       "      <th>DATE</th>\n",
       "      <th>COMPUTSA</th>\n",
       "    </tr>\n",
       "  </thead>\n",
       "  <tbody>\n",
       "    <tr>\n",
       "      <th>0</th>\n",
       "      <td>2002-01-01</td>\n",
       "      <td>1632.0</td>\n",
       "    </tr>\n",
       "    <tr>\n",
       "      <th>1</th>\n",
       "      <td>2002-02-01</td>\n",
       "      <td>1671.0</td>\n",
       "    </tr>\n",
       "    <tr>\n",
       "      <th>2</th>\n",
       "      <td>2002-03-01</td>\n",
       "      <td>1559.0</td>\n",
       "    </tr>\n",
       "    <tr>\n",
       "      <th>3</th>\n",
       "      <td>2002-04-01</td>\n",
       "      <td>1625.0</td>\n",
       "    </tr>\n",
       "    <tr>\n",
       "      <th>4</th>\n",
       "      <td>2002-05-01</td>\n",
       "      <td>1705.0</td>\n",
       "    </tr>\n",
       "  </tbody>\n",
       "</table>\n",
       "</div>"
      ],
      "text/plain": [
       "         DATE  COMPUTSA\n",
       "0  2002-01-01    1632.0\n",
       "1  2002-02-01    1671.0\n",
       "2  2002-03-01    1559.0\n",
       "3  2002-04-01    1625.0\n",
       "4  2002-05-01    1705.0"
      ]
     },
     "execution_count": 49,
     "metadata": {},
     "output_type": "execute_result"
    }
   ],
   "source": [
    "new_private_house.head()"
   ]
  },
  {
   "cell_type": "code",
   "execution_count": 50,
   "id": "71e154ed",
   "metadata": {},
   "outputs": [
    {
     "data": {
      "text/plain": [
       "(262, 2)"
      ]
     },
     "execution_count": 50,
     "metadata": {},
     "output_type": "execute_result"
    }
   ],
   "source": [
    "new_private_house.shape"
   ]
  },
  {
   "cell_type": "code",
   "execution_count": 51,
   "id": "9aa2b149",
   "metadata": {},
   "outputs": [],
   "source": [
    "new_private_house.set_index('DATE', inplace =True)\n",
    "new_private_house.rename(columns= {'COMPUTSA': 'new_private_house'}, inplace =True)\n",
    "new_private_house.index = pd.to_datetime(new_private_house.index)"
   ]
  },
  {
   "cell_type": "code",
   "execution_count": 52,
   "id": "3f2c294f",
   "metadata": {},
   "outputs": [
    {
     "data": {
      "text/html": [
       "<div>\n",
       "<style scoped>\n",
       "    .dataframe tbody tr th:only-of-type {\n",
       "        vertical-align: middle;\n",
       "    }\n",
       "\n",
       "    .dataframe tbody tr th {\n",
       "        vertical-align: top;\n",
       "    }\n",
       "\n",
       "    .dataframe thead th {\n",
       "        text-align: right;\n",
       "    }\n",
       "</style>\n",
       "<table border=\"1\" class=\"dataframe\">\n",
       "  <thead>\n",
       "    <tr style=\"text-align: right;\">\n",
       "      <th></th>\n",
       "      <th>new_private_house</th>\n",
       "    </tr>\n",
       "    <tr>\n",
       "      <th>DATE</th>\n",
       "      <th></th>\n",
       "    </tr>\n",
       "  </thead>\n",
       "  <tbody>\n",
       "    <tr>\n",
       "      <th>2002-01-01</th>\n",
       "      <td>1632.0</td>\n",
       "    </tr>\n",
       "    <tr>\n",
       "      <th>2002-02-01</th>\n",
       "      <td>1671.0</td>\n",
       "    </tr>\n",
       "    <tr>\n",
       "      <th>2002-03-01</th>\n",
       "      <td>1559.0</td>\n",
       "    </tr>\n",
       "    <tr>\n",
       "      <th>2002-04-01</th>\n",
       "      <td>1625.0</td>\n",
       "    </tr>\n",
       "    <tr>\n",
       "      <th>2002-05-01</th>\n",
       "      <td>1705.0</td>\n",
       "    </tr>\n",
       "  </tbody>\n",
       "</table>\n",
       "</div>"
      ],
      "text/plain": [
       "            new_private_house\n",
       "DATE                         \n",
       "2002-01-01             1632.0\n",
       "2002-02-01             1671.0\n",
       "2002-03-01             1559.0\n",
       "2002-04-01             1625.0\n",
       "2002-05-01             1705.0"
      ]
     },
     "execution_count": 52,
     "metadata": {},
     "output_type": "execute_result"
    }
   ],
   "source": [
    "new_private_house.head()"
   ]
  },
  {
   "cell_type": "code",
   "execution_count": 54,
   "id": "d147d4e4",
   "metadata": {},
   "outputs": [],
   "source": [
    "new_private_house.to_csv(\"Cleaned data/new_private_house.csv\")\n"
   ]
  },
  {
   "cell_type": "markdown",
   "id": "64f392d2",
   "metadata": {},
   "source": [
    "### marge and consoliated all data."
   ]
  },
  {
   "cell_type": "code",
   "execution_count": 89,
   "id": "08c3cce2",
   "metadata": {},
   "outputs": [],
   "source": [
    "import pandas as pd\n",
    "import numpy as np\n",
    "import os\n",
    "import seaborn as sns\n",
    "import matplotlib.pyplot as plt"
   ]
  },
  {
   "cell_type": "code",
   "execution_count": 90,
   "id": "d2a47a5b",
   "metadata": {},
   "outputs": [],
   "source": [
    "directory_name = \"cleaned data\"\n",
    "\n",
    "if not os.path.exists(directory_name):\n",
    "    os.makedirs(directory_name)\n"
   ]
  },
  {
   "cell_type": "code",
   "execution_count": 91,
   "id": "12591eae",
   "metadata": {},
   "outputs": [],
   "source": [
    "path = 'cleaned data'\n",
    "\n",
    "csv_files = [os.path.join(path, f) for f in os.listdir(path) if f.endswith('.csv')]\n",
    "\n",
    "dfs = [pd.read_csv(f) for f in csv_files]\n",
    "\n",
    "# Merging the dataframes on the 'DATE' column\n",
    "df_final = pd.concat(dfs, ignore_index=False).groupby('DATE').sum()\n"
   ]
  },
  {
   "cell_type": "code",
   "execution_count": 92,
   "id": "7da59b5c",
   "metadata": {},
   "outputs": [
    {
     "data": {
      "text/html": [
       "<div>\n",
       "<style scoped>\n",
       "    .dataframe tbody tr th:only-of-type {\n",
       "        vertical-align: middle;\n",
       "    }\n",
       "\n",
       "    .dataframe tbody tr th {\n",
       "        vertical-align: top;\n",
       "    }\n",
       "\n",
       "    .dataframe thead th {\n",
       "        text-align: right;\n",
       "    }\n",
       "</style>\n",
       "<table border=\"1\" class=\"dataframe\">\n",
       "  <thead>\n",
       "    <tr style=\"text-align: right;\">\n",
       "      <th></th>\n",
       "      <th>emratio</th>\n",
       "      <th>house_st</th>\n",
       "      <th>IPI_Cement</th>\n",
       "      <th>labor_percent</th>\n",
       "      <th>monthly_supply</th>\n",
       "      <th>mortgage_rate</th>\n",
       "      <th>new_private_house</th>\n",
       "      <th>permit</th>\n",
       "      <th>PI</th>\n",
       "      <th>POPTHM</th>\n",
       "      <th>PPI_Cement</th>\n",
       "      <th>PPI_Concrete</th>\n",
       "      <th>p_saving_rate</th>\n",
       "      <th>target</th>\n",
       "      <th>unemployed_rate</th>\n",
       "    </tr>\n",
       "    <tr>\n",
       "      <th>DATE</th>\n",
       "      <th></th>\n",
       "      <th></th>\n",
       "      <th></th>\n",
       "      <th></th>\n",
       "      <th></th>\n",
       "      <th></th>\n",
       "      <th></th>\n",
       "      <th></th>\n",
       "      <th></th>\n",
       "      <th></th>\n",
       "      <th></th>\n",
       "      <th></th>\n",
       "      <th></th>\n",
       "      <th></th>\n",
       "      <th></th>\n",
       "    </tr>\n",
       "  </thead>\n",
       "  <tbody>\n",
       "    <tr>\n",
       "      <th>2002-01-01</th>\n",
       "      <td>62.7</td>\n",
       "      <td>1698.0</td>\n",
       "      <td>154.1368</td>\n",
       "      <td>66.5</td>\n",
       "      <td>4.2</td>\n",
       "      <td>6.9975</td>\n",
       "      <td>1632.0</td>\n",
       "      <td>1665.0</td>\n",
       "      <td>9015.6</td>\n",
       "      <td>286739.0</td>\n",
       "      <td>148.8</td>\n",
       "      <td>0.0</td>\n",
       "      <td>5.6</td>\n",
       "      <td>116.437</td>\n",
       "      <td>5.7</td>\n",
       "    </tr>\n",
       "    <tr>\n",
       "      <th>2002-02-01</th>\n",
       "      <td>63.0</td>\n",
       "      <td>1829.0</td>\n",
       "      <td>153.3106</td>\n",
       "      <td>66.8</td>\n",
       "      <td>4.0</td>\n",
       "      <td>6.8925</td>\n",
       "      <td>1671.0</td>\n",
       "      <td>1787.0</td>\n",
       "      <td>9031.9</td>\n",
       "      <td>286935.0</td>\n",
       "      <td>148.4</td>\n",
       "      <td>0.0</td>\n",
       "      <td>5.4</td>\n",
       "      <td>116.917</td>\n",
       "      <td>5.7</td>\n",
       "    </tr>\n",
       "    <tr>\n",
       "      <th>2002-03-01</th>\n",
       "      <td>62.8</td>\n",
       "      <td>1642.0</td>\n",
       "      <td>144.7966</td>\n",
       "      <td>66.6</td>\n",
       "      <td>4.1</td>\n",
       "      <td>7.0140</td>\n",
       "      <td>1559.0</td>\n",
       "      <td>1691.0</td>\n",
       "      <td>9050.7</td>\n",
       "      <td>287131.0</td>\n",
       "      <td>147.9</td>\n",
       "      <td>0.0</td>\n",
       "      <td>5.5</td>\n",
       "      <td>117.929</td>\n",
       "      <td>5.7</td>\n",
       "    </tr>\n",
       "    <tr>\n",
       "      <th>2002-04-01</th>\n",
       "      <td>62.7</td>\n",
       "      <td>1592.0</td>\n",
       "      <td>142.7707</td>\n",
       "      <td>66.7</td>\n",
       "      <td>4.3</td>\n",
       "      <td>6.9850</td>\n",
       "      <td>1625.0</td>\n",
       "      <td>1669.0</td>\n",
       "      <td>9099.9</td>\n",
       "      <td>287343.0</td>\n",
       "      <td>151.8</td>\n",
       "      <td>0.0</td>\n",
       "      <td>5.4</td>\n",
       "      <td>119.209</td>\n",
       "      <td>5.9</td>\n",
       "    </tr>\n",
       "    <tr>\n",
       "      <th>2002-05-01</th>\n",
       "      <td>62.9</td>\n",
       "      <td>1764.0</td>\n",
       "      <td>141.9094</td>\n",
       "      <td>66.7</td>\n",
       "      <td>4.0</td>\n",
       "      <td>6.8060</td>\n",
       "      <td>1705.0</td>\n",
       "      <td>1716.0</td>\n",
       "      <td>9131.0</td>\n",
       "      <td>287571.0</td>\n",
       "      <td>152.2</td>\n",
       "      <td>0.0</td>\n",
       "      <td>6.1</td>\n",
       "      <td>120.788</td>\n",
       "      <td>5.8</td>\n",
       "    </tr>\n",
       "  </tbody>\n",
       "</table>\n",
       "</div>"
      ],
      "text/plain": [
       "            emratio  house_st  IPI_Cement  labor_percent  monthly_supply  \\\n",
       "DATE                                                                       \n",
       "2002-01-01     62.7    1698.0    154.1368           66.5             4.2   \n",
       "2002-02-01     63.0    1829.0    153.3106           66.8             4.0   \n",
       "2002-03-01     62.8    1642.0    144.7966           66.6             4.1   \n",
       "2002-04-01     62.7    1592.0    142.7707           66.7             4.3   \n",
       "2002-05-01     62.9    1764.0    141.9094           66.7             4.0   \n",
       "\n",
       "            mortgage_rate  new_private_house  permit      PI    POPTHM  \\\n",
       "DATE                                                                     \n",
       "2002-01-01         6.9975             1632.0  1665.0  9015.6  286739.0   \n",
       "2002-02-01         6.8925             1671.0  1787.0  9031.9  286935.0   \n",
       "2002-03-01         7.0140             1559.0  1691.0  9050.7  287131.0   \n",
       "2002-04-01         6.9850             1625.0  1669.0  9099.9  287343.0   \n",
       "2002-05-01         6.8060             1705.0  1716.0  9131.0  287571.0   \n",
       "\n",
       "            PPI_Cement  PPI_Concrete  p_saving_rate   target  unemployed_rate  \n",
       "DATE                                                                           \n",
       "2002-01-01       148.8           0.0            5.6  116.437              5.7  \n",
       "2002-02-01       148.4           0.0            5.4  116.917              5.7  \n",
       "2002-03-01       147.9           0.0            5.5  117.929              5.7  \n",
       "2002-04-01       151.8           0.0            5.4  119.209              5.9  \n",
       "2002-05-01       152.2           0.0            6.1  120.788              5.8  "
      ]
     },
     "execution_count": 92,
     "metadata": {},
     "output_type": "execute_result"
    }
   ],
   "source": [
    "df_final.head()"
   ]
  },
  {
   "cell_type": "code",
   "execution_count": 93,
   "id": "da30ae49",
   "metadata": {},
   "outputs": [
    {
     "data": {
      "text/plain": [
       "(263, 15)"
      ]
     },
     "execution_count": 93,
     "metadata": {},
     "output_type": "execute_result"
    }
   ],
   "source": [
    "df_final.shape"
   ]
  },
  {
   "cell_type": "code",
   "execution_count": 94,
   "id": "3244a48b",
   "metadata": {},
   "outputs": [
    {
     "name": "stdout",
     "output_type": "stream",
     "text": [
      "<class 'pandas.core.frame.DataFrame'>\n",
      "Index: 263 entries, 2002-01-01 to 2023-11-01\n",
      "Data columns (total 15 columns):\n",
      " #   Column             Non-Null Count  Dtype  \n",
      "---  ------             --------------  -----  \n",
      " 0   emratio            263 non-null    float64\n",
      " 1   house_st           263 non-null    float64\n",
      " 2   IPI_Cement         263 non-null    float64\n",
      " 3   labor_percent      263 non-null    float64\n",
      " 4   monthly_supply     263 non-null    float64\n",
      " 5   mortgage_rate      263 non-null    float64\n",
      " 6   new_private_house  263 non-null    float64\n",
      " 7   permit             263 non-null    float64\n",
      " 8   PI                 263 non-null    float64\n",
      " 9   POPTHM             263 non-null    float64\n",
      " 10  PPI_Cement         263 non-null    float64\n",
      " 11  PPI_Concrete       263 non-null    float64\n",
      " 12  p_saving_rate      263 non-null    float64\n",
      " 13  target             263 non-null    float64\n",
      " 14  unemployed_rate    263 non-null    float64\n",
      "dtypes: float64(15)\n",
      "memory usage: 32.9+ KB\n"
     ]
    }
   ],
   "source": [
    "df_final.info()"
   ]
  },
  {
   "cell_type": "code",
   "execution_count": 95,
   "id": "cac8f049",
   "metadata": {},
   "outputs": [
    {
     "data": {
      "text/html": [
       "<div>\n",
       "<style scoped>\n",
       "    .dataframe tbody tr th:only-of-type {\n",
       "        vertical-align: middle;\n",
       "    }\n",
       "\n",
       "    .dataframe tbody tr th {\n",
       "        vertical-align: top;\n",
       "    }\n",
       "\n",
       "    .dataframe thead th {\n",
       "        text-align: right;\n",
       "    }\n",
       "</style>\n",
       "<table border=\"1\" class=\"dataframe\">\n",
       "  <thead>\n",
       "    <tr style=\"text-align: right;\">\n",
       "      <th></th>\n",
       "      <th>emratio</th>\n",
       "      <th>house_st</th>\n",
       "      <th>IPI_Cement</th>\n",
       "      <th>labor_percent</th>\n",
       "      <th>monthly_supply</th>\n",
       "      <th>mortgage_rate</th>\n",
       "      <th>new_private_house</th>\n",
       "      <th>permit</th>\n",
       "      <th>PI</th>\n",
       "      <th>POPTHM</th>\n",
       "      <th>PPI_Cement</th>\n",
       "      <th>PPI_Concrete</th>\n",
       "      <th>p_saving_rate</th>\n",
       "      <th>target</th>\n",
       "      <th>unemployed_rate</th>\n",
       "    </tr>\n",
       "  </thead>\n",
       "  <tbody>\n",
       "    <tr>\n",
       "      <th>count</th>\n",
       "      <td>263.000000</td>\n",
       "      <td>263.000000</td>\n",
       "      <td>263.000000</td>\n",
       "      <td>263.000000</td>\n",
       "      <td>263.000000</td>\n",
       "      <td>263.000000</td>\n",
       "      <td>263.000000</td>\n",
       "      <td>263.000000</td>\n",
       "      <td>263.000000</td>\n",
       "      <td>263.000000</td>\n",
       "      <td>263.000000</td>\n",
       "      <td>263.000000</td>\n",
       "      <td>263.000000</td>\n",
       "      <td>263.000000</td>\n",
       "      <td>263.000000</td>\n",
       "    </tr>\n",
       "    <tr>\n",
       "      <th>mean</th>\n",
       "      <td>60.296198</td>\n",
       "      <td>1270.695817</td>\n",
       "      <td>113.630700</td>\n",
       "      <td>64.082890</td>\n",
       "      <td>6.079087</td>\n",
       "      <td>4.856137</td>\n",
       "      <td>1226.908745</td>\n",
       "      <td>1330.083650</td>\n",
       "      <td>14665.941825</td>\n",
       "      <td>313167.653992</td>\n",
       "      <td>215.209095</td>\n",
       "      <td>208.566532</td>\n",
       "      <td>5.831559</td>\n",
       "      <td>180.831122</td>\n",
       "      <td>5.901901</td>\n",
       "    </tr>\n",
       "    <tr>\n",
       "      <th>std</th>\n",
       "      <td>1.934871</td>\n",
       "      <td>458.320514</td>\n",
       "      <td>30.654249</td>\n",
       "      <td>1.660696</td>\n",
       "      <td>1.977329</td>\n",
       "      <td>1.206290</td>\n",
       "      <td>424.871430</td>\n",
       "      <td>475.564085</td>\n",
       "      <td>4058.934231</td>\n",
       "      <td>24414.401561</td>\n",
       "      <td>45.953770</td>\n",
       "      <td>55.837123</td>\n",
       "      <td>3.418243</td>\n",
       "      <td>49.845941</td>\n",
       "      <td>2.001230</td>\n",
       "    </tr>\n",
       "    <tr>\n",
       "      <th>min</th>\n",
       "      <td>51.300000</td>\n",
       "      <td>0.000000</td>\n",
       "      <td>0.000000</td>\n",
       "      <td>60.100000</td>\n",
       "      <td>0.000000</td>\n",
       "      <td>2.684000</td>\n",
       "      <td>0.000000</td>\n",
       "      <td>0.000000</td>\n",
       "      <td>0.000000</td>\n",
       "      <td>0.000000</td>\n",
       "      <td>0.000000</td>\n",
       "      <td>0.000000</td>\n",
       "      <td>0.000000</td>\n",
       "      <td>0.000000</td>\n",
       "      <td>3.400000</td>\n",
       "    </tr>\n",
       "    <tr>\n",
       "      <th>25%</th>\n",
       "      <td>58.700000</td>\n",
       "      <td>937.000000</td>\n",
       "      <td>96.735700</td>\n",
       "      <td>62.800000</td>\n",
       "      <td>4.600000</td>\n",
       "      <td>3.885000</td>\n",
       "      <td>863.000000</td>\n",
       "      <td>1004.500000</td>\n",
       "      <td>11918.950000</td>\n",
       "      <td>301403.000000</td>\n",
       "      <td>188.550000</td>\n",
       "      <td>188.400000</td>\n",
       "      <td>4.500000</td>\n",
       "      <td>146.589500</td>\n",
       "      <td>4.450000</td>\n",
       "    </tr>\n",
       "    <tr>\n",
       "      <th>50%</th>\n",
       "      <td>60.100000</td>\n",
       "      <td>1250.000000</td>\n",
       "      <td>103.004600</td>\n",
       "      <td>63.600000</td>\n",
       "      <td>5.600000</td>\n",
       "      <td>4.627500</td>\n",
       "      <td>1226.000000</td>\n",
       "      <td>1320.000000</td>\n",
       "      <td>13914.100000</td>\n",
       "      <td>315692.000000</td>\n",
       "      <td>207.500000</td>\n",
       "      <td>200.700000</td>\n",
       "      <td>5.500000</td>\n",
       "      <td>171.850000</td>\n",
       "      <td>5.400000</td>\n",
       "    </tr>\n",
       "    <tr>\n",
       "      <th>75%</th>\n",
       "      <td>62.300000</td>\n",
       "      <td>1615.500000</td>\n",
       "      <td>142.965400</td>\n",
       "      <td>66.000000</td>\n",
       "      <td>7.200000</td>\n",
       "      <td>6.003000</td>\n",
       "      <td>1537.500000</td>\n",
       "      <td>1704.500000</td>\n",
       "      <td>17366.550000</td>\n",
       "      <td>328442.500000</td>\n",
       "      <td>248.650000</td>\n",
       "      <td>248.000000</td>\n",
       "      <td>6.300000</td>\n",
       "      <td>199.597500</td>\n",
       "      <td>6.900000</td>\n",
       "    </tr>\n",
       "    <tr>\n",
       "      <th>max</th>\n",
       "      <td>63.400000</td>\n",
       "      <td>2273.000000</td>\n",
       "      <td>192.032200</td>\n",
       "      <td>66.800000</td>\n",
       "      <td>12.200000</td>\n",
       "      <td>7.620000</td>\n",
       "      <td>2245.000000</td>\n",
       "      <td>2263.000000</td>\n",
       "      <td>24471.800000</td>\n",
       "      <td>335836.000000</td>\n",
       "      <td>334.339000</td>\n",
       "      <td>336.455000</td>\n",
       "      <td>32.000000</td>\n",
       "      <td>312.313000</td>\n",
       "      <td>14.700000</td>\n",
       "    </tr>\n",
       "  </tbody>\n",
       "</table>\n",
       "</div>"
      ],
      "text/plain": [
       "          emratio     house_st  IPI_Cement  labor_percent  monthly_supply  \\\n",
       "count  263.000000   263.000000  263.000000     263.000000      263.000000   \n",
       "mean    60.296198  1270.695817  113.630700      64.082890        6.079087   \n",
       "std      1.934871   458.320514   30.654249       1.660696        1.977329   \n",
       "min     51.300000     0.000000    0.000000      60.100000        0.000000   \n",
       "25%     58.700000   937.000000   96.735700      62.800000        4.600000   \n",
       "50%     60.100000  1250.000000  103.004600      63.600000        5.600000   \n",
       "75%     62.300000  1615.500000  142.965400      66.000000        7.200000   \n",
       "max     63.400000  2273.000000  192.032200      66.800000       12.200000   \n",
       "\n",
       "       mortgage_rate  new_private_house       permit            PI  \\\n",
       "count     263.000000         263.000000   263.000000    263.000000   \n",
       "mean        4.856137        1226.908745  1330.083650  14665.941825   \n",
       "std         1.206290         424.871430   475.564085   4058.934231   \n",
       "min         2.684000           0.000000     0.000000      0.000000   \n",
       "25%         3.885000         863.000000  1004.500000  11918.950000   \n",
       "50%         4.627500        1226.000000  1320.000000  13914.100000   \n",
       "75%         6.003000        1537.500000  1704.500000  17366.550000   \n",
       "max         7.620000        2245.000000  2263.000000  24471.800000   \n",
       "\n",
       "              POPTHM  PPI_Cement  PPI_Concrete  p_saving_rate      target  \\\n",
       "count     263.000000  263.000000    263.000000     263.000000  263.000000   \n",
       "mean   313167.653992  215.209095    208.566532       5.831559  180.831122   \n",
       "std     24414.401561   45.953770     55.837123       3.418243   49.845941   \n",
       "min         0.000000    0.000000      0.000000       0.000000    0.000000   \n",
       "25%    301403.000000  188.550000    188.400000       4.500000  146.589500   \n",
       "50%    315692.000000  207.500000    200.700000       5.500000  171.850000   \n",
       "75%    328442.500000  248.650000    248.000000       6.300000  199.597500   \n",
       "max    335836.000000  334.339000    336.455000      32.000000  312.313000   \n",
       "\n",
       "       unemployed_rate  \n",
       "count       263.000000  \n",
       "mean          5.901901  \n",
       "std           2.001230  \n",
       "min           3.400000  \n",
       "25%           4.450000  \n",
       "50%           5.400000  \n",
       "75%           6.900000  \n",
       "max          14.700000  "
      ]
     },
     "execution_count": 95,
     "metadata": {},
     "output_type": "execute_result"
    }
   ],
   "source": [
    "df_final.describe()"
   ]
  },
  {
   "cell_type": "markdown",
   "id": "68868b96",
   "metadata": {},
   "source": [
    "## ploting graph for numerical values"
   ]
  },
  {
   "cell_type": "code",
   "execution_count": 96,
   "id": "7e626457",
   "metadata": {},
   "outputs": [
    {
     "data": {
      "text/plain": [
       "<Figure size 864x432 with 0 Axes>"
      ]
     },
     "metadata": {},
     "output_type": "display_data"
    },
    {
     "data": {
      "text/plain": [
       "<Figure size 432x288 with 0 Axes>"
      ]
     },
     "metadata": {},
     "output_type": "display_data"
    },
    {
     "data": {
      "image/png": "[encoded data removed]",
      "text/plain": [
       "<Figure size 360x360 with 1 Axes>"
      ]
     },
     "metadata": {
      "needs_background": "light"
     },
     "output_type": "display_data"
    },
    {
     "data": {
      "text/plain": [
       "<Figure size 432x288 with 0 Axes>"
      ]
     },
     "metadata": {},
     "output_type": "display_data"
    },
    {
     "data": {
      "image/png": "[encoded data removed]",
      "text/plain": [
       "<Figure size 360x360 with 1 Axes>"
      ]
     },
     "metadata": {
      "needs_background": "light"
     },
     "output_type": "display_data"
    },
    {
     "data": {
      "text/plain": [
       "<Figure size 432x288 with 0 Axes>"
      ]
     },
     "metadata": {},
     "output_type": "display_data"
    },
    {
     "data": {
      "image/png": "[encoded data removed]",
      "text/plain": [
       "<Figure size 360x360 with 1 Axes>"
      ]
     },
     "metadata": {
      "needs_background": "light"
     },
     "output_type": "display_data"
    },
    {
     "data": {
      "text/plain": [
       "<Figure size 432x288 with 0 Axes>"
      ]
     },
     "metadata": {},
     "output_type": "display_data"
    },
    {
     "data": {
      "image/png": "[encoded data removed]",
      "text/plain": [
       "<Figure size 360x360 with 1 Axes>"
      ]
     },
     "metadata": {
      "needs_background": "light"
     },
     "output_type": "display_data"
    },
    {
     "data": {
      "text/plain": [
       "<Figure size 432x288 with 0 Axes>"
      ]
     },
     "metadata": {},
     "output_type": "display_data"
    },
    {
     "data": {
      "image/png": "[encoded data removed]",
      "text/plain": [
       "<Figure size 360x360 with 1 Axes>"
      ]
     },
     "metadata": {
      "needs_background": "light"
     },
     "output_type": "display_data"
    },
    {
     "data": {
      "text/plain": [
       "<Figure size 432x288 with 0 Axes>"
      ]
     },
     "metadata": {},
     "output_type": "display_data"
    },
    {
     "data": {
      "image/png": "[encoded data removed]",
      "text/plain": [
       "<Figure size 360x360 with 1 Axes>"
      ]
     },
     "metadata": {
      "needs_background": "light"
     },
     "output_type": "display_data"
    },
    {
     "data": {
      "text/plain": [
       "<Figure size 432x288 with 0 Axes>"
      ]
     },
     "metadata": {},
     "output_type": "display_data"
    },
    {
     "data": {
      "image/png": "[encoded data removed]",
      "text/plain": [
       "<Figure size 360x360 with 1 Axes>"
      ]
     },
     "metadata": {
      "needs_background": "light"
     },
     "output_type": "display_data"
    },
    {
     "data": {
      "text/plain": [
       "<Figure size 432x288 with 0 Axes>"
      ]
     },
     "metadata": {},
     "output_type": "display_data"
    },
    {
     "data": {
      "image/png": "[encoded data removed]",
      "text/plain": [
       "<Figure size 360x360 with 1 Axes>"
      ]
     },
     "metadata": {
      "needs_background": "light"
     },
     "output_type": "display_data"
    },
    {
     "data": {
      "text/plain": [
       "<Figure size 432x288 with 0 Axes>"
      ]
     },
     "metadata": {},
     "output_type": "display_data"
    },
    {
     "data": {
      "image/png": "[encoded data removed]",
      "text/plain": [
       "<Figure size 360x360 with 1 Axes>"
      ]
     },
     "metadata": {
      "needs_background": "light"
     },
     "output_type": "display_data"
    },
    {
     "data": {
      "text/plain": [
       "<Figure size 432x288 with 0 Axes>"
      ]
     },
     "metadata": {},
     "output_type": "display_data"
    },
    {
     "data": {
      "image/png": "[encoded data removed]",
      "text/plain": [
       "<Figure size 360x360 with 1 Axes>"
      ]
     },
     "metadata": {
      "needs_background": "light"
     },
     "output_type": "display_data"
    },
    {
     "data": {
      "text/plain": [
       "<Figure size 432x288 with 0 Axes>"
      ]
     },
     "metadata": {},
     "output_type": "display_data"
    },
    {
     "data": {
      "image/png": "[encoded data removed]",
      "text/plain": [
       "<Figure size 360x360 with 1 Axes>"
      ]
     },
     "metadata": {
      "needs_background": "light"
     },
     "output_type": "display_data"
    },
    {
     "data": {
      "text/plain": [
       "<Figure size 432x288 with 0 Axes>"
      ]
     },
     "metadata": {},
     "output_type": "display_data"
    },
    {
     "data": {
      "image/png": "[encoded data removed]",
      "text/plain": [
       "<Figure size 360x360 with 1 Axes>"
      ]
     },
     "metadata": {
      "needs_background": "light"
     },
     "output_type": "display_data"
    },
    {
     "data": {
      "text/plain": [
       "<Figure size 432x288 with 0 Axes>"
      ]
     },
     "metadata": {},
     "output_type": "display_data"
    },
    {
     "data": {
      "image/png": "[encoded data removed]",
      "text/plain": [
       "<Figure size 360x360 with 1 Axes>"
      ]
     },
     "metadata": {
      "needs_background": "light"
     },
     "output_type": "display_data"
    },
    {
     "data": {
      "text/plain": [
       "<Figure size 432x288 with 0 Axes>"
      ]
     },
     "metadata": {},
     "output_type": "display_data"
    },
    {
     "data": {
      "image/png": "[encoded data removed]",
      "text/plain": [
       "<Figure size 360x360 with 1 Axes>"
      ]
     },
     "metadata": {
      "needs_background": "light"
     },
     "output_type": "display_data"
    },
    {
     "data": {
      "text/plain": [
       "<Figure size 432x288 with 0 Axes>"
      ]
     },
     "metadata": {},
     "output_type": "display_data"
    },
    {
     "data": {
      "image/png": "[encoded data removed]",
      "text/plain": [
       "<Figure size 360x360 with 1 Axes>"
      ]
     },
     "metadata": {
      "needs_background": "light"
     },
     "output_type": "display_data"
    }
   ],
   "source": [
    "plt.figure(figsize=(12, 6))\n",
    "for col in df_final.columns.tolist():\n",
    "    plt.figure(figsize=(6, 4))\n",
    "    sns.displot(data=df_final, x=col, kde =True)\n",
    "    plt.xlabel(f\"{col}\")\n",
    "    plt.ylabel(\"Count\")\n",
    "    plt.title(f'Distribution Plot for {col}')\n",
    "    plt.show()"
   ]
  },
  {
   "cell_type": "markdown",
   "id": "3645855c",
   "metadata": {},
   "source": [
    "### to know outlier to do box plot"
   ]
  },
  {
   "cell_type": "code",
   "execution_count": 97,
   "id": "76175326",
   "metadata": {},
   "outputs": [
    {
     "data": {
      "text/plain": [
       "<Figure size 864x432 with 0 Axes>"
      ]
     },
     "metadata": {},
     "output_type": "display_data"
    },
    {
     "data": {
      "image/png": "[encoded data removed]",
      "text/plain": [
       "<Figure size 432x288 with 1 Axes>"
      ]
     },
     "metadata": {
      "needs_background": "light"
     },
     "output_type": "display_data"
    },
    {
     "data": {
      "image/png": "[encoded data removed]",
      "text/plain": [
       "<Figure size 432x288 with 1 Axes>"
      ]
     },
     "metadata": {
      "needs_background": "light"
     },
     "output_type": "display_data"
    },
    {
     "data": {
      "image/png": "[encoded data removed]",
      "text/plain": [
       "<Figure size 432x288 with 1 Axes>"
      ]
     },
     "metadata": {
      "needs_background": "light"
     },
     "output_type": "display_data"
    },
    {
     "data": {
      "image/png": "[encoded data removed]",
      "text/plain": [
       "<Figure size 432x288 with 1 Axes>"
      ]
     },
     "metadata": {
      "needs_background": "light"
     },
     "output_type": "display_data"
    },
    {
     "data": {
      "image/png": "[encoded data removed]",
      "text/plain": [
       "<Figure size 432x288 with 1 Axes>"
      ]
     },
     "metadata": {
      "needs_background": "light"
     },
     "output_type": "display_data"
    },
    {
     "data": {
      "image/png": "[encoded data removed]",
      "text/plain": [
       "<Figure size 432x288 with 1 Axes>"
      ]
     },
     "metadata": {
      "needs_background": "light"
     },
     "output_type": "display_data"
    },
    {
     "data": {
      "image/png": "[encoded data removed]",
      "text/plain": [
       "<Figure size 432x288 with 1 Axes>"
      ]
     },
     "metadata": {
      "needs_background": "light"
     },
     "output_type": "display_data"
    },
    {
     "data": {
      "image/png": "[encoded data removed]",
      "text/plain": [
       "<Figure size 432x288 with 1 Axes>"
      ]
     },
     "metadata": {
      "needs_background": "light"
     },
     "output_type": "display_data"
    },
    {
     "data": {
      "image/png": "[encoded data removed]",
      "text/plain": [
       "<Figure size 432x288 with 1 Axes>"
      ]
     },
     "metadata": {
      "needs_background": "light"
     },
     "output_type": "display_data"
    },
    {
     "data": {
      "image/png": "[encoded data removed]",
      "text/plain": [
       "<Figure size 432x288 with 1 Axes>"
      ]
     },
     "metadata": {
      "needs_background": "light"
     },
     "output_type": "display_data"
    },
    {
     "data": {
      "image/png": "[encoded data removed]",
      "text/plain": [
       "<Figure size 432x288 with 1 Axes>"
      ]
     },
     "metadata": {
      "needs_background": "light"
     },
     "output_type": "display_data"
    },
    {
     "data": {
      "image/png": "[encoded data removed]",
      "text/plain": [
       "<Figure size 432x288 with 1 Axes>"
      ]
     },
     "metadata": {
      "needs_background": "light"
     },
     "output_type": "display_data"
    },
    {
     "data": {
      "image/png": "[encoded data removed]",
      "text/plain": [
       "<Figure size 432x288 with 1 Axes>"
      ]
     },
     "metadata": {
      "needs_background": "light"
     },
     "output_type": "display_data"
    },
    {
     "data": {
      "image/png": "[encoded data removed]",
      "text/plain": [
       "<Figure size 432x288 with 1 Axes>"
      ]
     },
     "metadata": {
      "needs_background": "light"
     },
     "output_type": "display_data"
    },
    {
     "data": {
      "image/png": "[encoded data removed]",
      "text/plain": [
       "<Figure size 432x288 with 1 Axes>"
      ]
     },
     "metadata": {
      "needs_background": "light"
     },
     "output_type": "display_data"
    }
   ],
   "source": [
    "plt.figure(figsize=(12, 6))\n",
    "for col in df_final.columns.tolist():\n",
    "    plt.figure(figsize=(6, 4))\n",
    "    sns.boxplot(data=df_final, x=col)\n",
    "    plt.xlabel(f\"{col}\")\n",
    "    plt.title(f'Box Plot for {col}')\n",
    "    plt.show()"
   ]
  },
  {
   "cell_type": "markdown",
   "id": "9c392d21",
   "metadata": {},
   "source": [
    "## the following having outliers"
   ]
  },
  {
   "cell_type": "markdown",
   "id": "56dd4569",
   "metadata": {},
   "source": [
    "# emratio\n",
    "IPI_cement\n",
    "monthly_supply\n",
    "pi\n",
    "popthm\n",
    "ppi_concrete\n",
    "p_saving_rate\n",
    "unemployed_rate"
   ]
  },
  {
   "cell_type": "code",
   "execution_count": 98,
   "id": "027c66ae",
   "metadata": {},
   "outputs": [
    {
     "data": {
      "text/plain": [
       "-0.5126189308712021"
      ]
     },
     "execution_count": 98,
     "metadata": {},
     "output_type": "execute_result"
    }
   ],
   "source": [
    "df_final['emratio'].skew()\n"
   ]
  },
  {
   "cell_type": "markdown",
   "id": "1f934345",
   "metadata": {},
   "source": [
    "Employment population ratio column is negatively skewed and having outliers in the minimum side. We are going to apply IQR method for handling outliers.\n"
   ]
  },
  {
   "cell_type": "code",
   "execution_count": 99,
   "id": "d94563f5",
   "metadata": {},
   "outputs": [],
   "source": [
    "#finding the Q1(25 perc) and Q3(75 perc)\n",
    "q1 = df_final[\"emratio\"].quantile(0.25)\n",
    "q2 = df_final[\"emratio\"].quantile(0.75)\n",
    "\n",
    "IQR =q2-q1"
   ]
  },
  {
   "cell_type": "code",
   "execution_count": 100,
   "id": "65d15aea",
   "metadata": {},
   "outputs": [
    {
     "name": "stdout",
     "output_type": "stream",
     "text": [
      "53.30000000000001\n",
      "67.69999999999999\n"
     ]
    },
    {
     "data": {
      "text/plain": [
       "(None, None)"
      ]
     },
     "execution_count": 100,
     "metadata": {},
     "output_type": "execute_result"
    }
   ],
   "source": [
    "lower_border=q1-(IQR*1.5)\n",
    "upper_border=q2+(IQR*1.5)\n",
    "print(lower_border), print(upper_border)"
   ]
  },
  {
   "cell_type": "code",
   "execution_count": 101,
   "id": "a57d187e",
   "metadata": {},
   "outputs": [],
   "source": [
    "df_final.loc[df_final['emratio'] <=lower_border,'emratio'] = lower_border\n"
   ]
  },
  {
   "cell_type": "code",
   "execution_count": 102,
   "id": "e1b2fe2e",
   "metadata": {},
   "outputs": [
    {
     "data": {
      "image/png": "[encoded data removed]",
      "text/plain": [
       "<Figure size 432x288 with 1 Axes>"
      ]
     },
     "metadata": {
      "needs_background": "light"
     },
     "output_type": "display_data"
    }
   ],
   "source": [
    "plt.boxplot(df_final['emratio'], vert=False)\n",
    "plt.xlabel('emratio')\n",
    "plt.title('Box Plot of emratio')\n",
    "plt.show()"
   ]
  },
  {
   "cell_type": "code",
   "execution_count": 103,
   "id": "0d4aa63a",
   "metadata": {},
   "outputs": [
    {
     "data": {
      "text/plain": [
       "3.692860370562072"
      ]
     },
     "execution_count": 103,
     "metadata": {},
     "output_type": "execute_result"
    }
   ],
   "source": [
    "df_final['p_saving_rate'].skew()\n"
   ]
  },
  {
   "cell_type": "code",
   "execution_count": 104,
   "id": "d4cbe8bc",
   "metadata": {},
   "outputs": [],
   "source": [
    "#Personal saving rate column is highly right skewed. Hence we will apply IQR method for handling outliers.\n"
   ]
  },
  {
   "cell_type": "code",
   "execution_count": 105,
   "id": "5add2bd6",
   "metadata": {},
   "outputs": [],
   "source": [
    "q1 = df_final[\"p_saving_rate\"].quantile(0.25)\n",
    "q2 = df_final[\"p_saving_rate\"].quantile(0.75)\n",
    "\n",
    "IQR =q2-q1\n"
   ]
  },
  {
   "cell_type": "code",
   "execution_count": 106,
   "id": "1fbdeb62",
   "metadata": {},
   "outputs": [
    {
     "name": "stdout",
     "output_type": "stream",
     "text": [
      "1.8000000000000003\n",
      "9.0\n"
     ]
    },
    {
     "data": {
      "text/plain": [
       "(None, None)"
      ]
     },
     "execution_count": 106,
     "metadata": {},
     "output_type": "execute_result"
    }
   ],
   "source": [
    "lower_bridge=q1-(IQR*1.5)\n",
    "upper_bridge=q2+(IQR*1.5)\n",
    "print(lower_bridge), print(upper_bridge)\n"
   ]
  },
  {
   "cell_type": "code",
   "execution_count": 107,
   "id": "f16e804c",
   "metadata": {},
   "outputs": [],
   "source": [
    "df_final.loc[df_final['p_saving_rate'] >=upper_bridge,'p_saving_rate'] = upper_bridge"
   ]
  },
  {
   "cell_type": "code",
   "execution_count": 108,
   "id": "a3d858c9",
   "metadata": {},
   "outputs": [
    {
     "data": {
      "image/png": "[encoded data removed]",
      "text/plain": [
       "<Figure size 432x288 with 1 Axes>"
      ]
     },
     "metadata": {
      "needs_background": "light"
     },
     "output_type": "display_data"
    }
   ],
   "source": [
    "plt.boxplot(df_final['p_saving_rate'], vert=False)\n",
    "plt.xlabel('p_saving_rate')\n",
    "plt.title('Box Plot of p_saving_rate')\n",
    "plt.show()"
   ]
  },
  {
   "cell_type": "markdown",
   "id": "764888ab",
   "metadata": {},
   "source": [
    "#ppi_concrete"
   ]
  },
  {
   "cell_type": "code",
   "execution_count": 109,
   "id": "c8354d68",
   "metadata": {},
   "outputs": [
    {
     "data": {
      "text/plain": [
       "-0.5255067670133476"
      ]
     },
     "execution_count": 109,
     "metadata": {},
     "output_type": "execute_result"
    }
   ],
   "source": [
    "df_final['PPI_Concrete'].skew()\n"
   ]
  },
  {
   "cell_type": "code",
   "execution_count": 110,
   "id": "9c5dd806",
   "metadata": {},
   "outputs": [],
   "source": [
    "#df_final['PPI_Concrete'] = np.log1p(df_final['PPI_Concrete'])\n"
   ]
  },
  {
   "cell_type": "code",
   "execution_count": 111,
   "id": "7dbed7d0",
   "metadata": {},
   "outputs": [],
   "source": [
    "q1 = df_final[\"PPI_Concrete\"].quantile(0.25)\n",
    "q2 = df_final[\"PPI_Concrete\"].quantile(0.75)\n",
    "\n",
    "IQR =q2-q1\n"
   ]
  },
  {
   "cell_type": "code",
   "execution_count": 112,
   "id": "9c521903",
   "metadata": {},
   "outputs": [
    {
     "name": "stdout",
     "output_type": "stream",
     "text": [
      "99.00000000000001\n",
      "337.4\n"
     ]
    },
    {
     "data": {
      "text/plain": [
       "(None, None)"
      ]
     },
     "execution_count": 112,
     "metadata": {},
     "output_type": "execute_result"
    }
   ],
   "source": [
    "lower_bridge=q1-(IQR*1.5)\n",
    "upper_bridge=q2+(IQR*1.5)\n",
    "print(lower_bridge), print(upper_bridge)\n"
   ]
  },
  {
   "cell_type": "code",
   "execution_count": 113,
   "id": "22b296f5",
   "metadata": {},
   "outputs": [],
   "source": [
    "df_final.loc[df_final['PPI_Concrete'] <=lower_bridge,'PPI_Concrete'] = lower_bridge\n"
   ]
  },
  {
   "cell_type": "code",
   "execution_count": 114,
   "id": "82c9d656",
   "metadata": {},
   "outputs": [
    {
     "data": {
      "text/plain": [
       "<AxesSubplot:>"
      ]
     },
     "execution_count": 114,
     "metadata": {},
     "output_type": "execute_result"
    },
    {
     "data": {
      "image/png": "[encoded data removed]",
      "text/plain": [
       "<Figure size 432x288 with 1 Axes>"
      ]
     },
     "metadata": {
      "needs_background": "light"
     },
     "output_type": "display_data"
    }
   ],
   "source": [
    "df_final['PPI_Concrete'].hist()\n"
   ]
  },
  {
   "cell_type": "code",
   "execution_count": 115,
   "id": "045b2e3b",
   "metadata": {},
   "outputs": [
    {
     "data": {
      "image/png": "[encoded data removed]",
      "text/plain": [
       "<Figure size 432x288 with 1 Axes>"
      ]
     },
     "metadata": {
      "needs_background": "light"
     },
     "output_type": "display_data"
    }
   ],
   "source": [
    "plt.boxplot(df_final['PPI_Concrete'], vert=False)\n",
    "plt.xlabel('PPI_Concrete')\n",
    "plt.title('Box Plot of PPI_Concrete')\n",
    "plt.show()"
   ]
  },
  {
   "cell_type": "code",
   "execution_count": 116,
   "id": "f2b3b301",
   "metadata": {},
   "outputs": [],
   "source": [
    "#unemploymentRate"
   ]
  },
  {
   "cell_type": "code",
   "execution_count": 117,
   "id": "9ae25bb6",
   "metadata": {},
   "outputs": [
    {
     "data": {
      "text/plain": [
       "1.090758061941209"
      ]
     },
     "execution_count": 117,
     "metadata": {},
     "output_type": "execute_result"
    }
   ],
   "source": [
    "df_final['unemployed_rate'].skew()\n"
   ]
  },
  {
   "cell_type": "code",
   "execution_count": 118,
   "id": "af179236",
   "metadata": {},
   "outputs": [],
   "source": [
    "q1 = df_final[\"unemployed_rate\"].quantile(0.25)\n",
    "q2 = df_final[\"unemployed_rate\"].quantile(0.75)\n",
    "\n",
    "IQR =q2-q1\n",
    "   "
   ]
  },
  {
   "cell_type": "code",
   "execution_count": 119,
   "id": "1c2d5212",
   "metadata": {},
   "outputs": [
    {
     "name": "stdout",
     "output_type": "stream",
     "text": [
      "0.7749999999999999\n",
      "10.575000000000001\n"
     ]
    },
    {
     "data": {
      "text/plain": [
       "(None, None)"
      ]
     },
     "execution_count": 119,
     "metadata": {},
     "output_type": "execute_result"
    }
   ],
   "source": [
    "lower_bridge=q1-(IQR*1.5)\n",
    "upper_bridge=q2+(IQR*1.5)\n",
    "print(lower_bridge), print(upper_bridge)"
   ]
  },
  {
   "cell_type": "code",
   "execution_count": 120,
   "id": "39abc85e",
   "metadata": {},
   "outputs": [],
   "source": [
    "df_final.loc[df_final['unemployed_rate'] >=upper_bridge,'unemployed_rate'] = upper_bridge"
   ]
  },
  {
   "cell_type": "code",
   "execution_count": 121,
   "id": "d8815ff1",
   "metadata": {},
   "outputs": [
    {
     "data": {
      "image/png": "[encoded data removed]",
      "text/plain": [
       "<Figure size 432x288 with 1 Axes>"
      ]
     },
     "metadata": {
      "needs_background": "light"
     },
     "output_type": "display_data"
    }
   ],
   "source": [
    "plt.boxplot(df_final['unemployed_rate'], vert=False)\n",
    "plt.xlabel('unemployed_rate')\n",
    "plt.title('Box Plot of unemployed_rate')\n",
    "plt.show()"
   ]
  },
  {
   "cell_type": "code",
   "execution_count": 122,
   "id": "89b65bf2",
   "metadata": {},
   "outputs": [],
   "source": [
    "#monthly_supply"
   ]
  },
  {
   "cell_type": "code",
   "execution_count": 123,
   "id": "6a965387",
   "metadata": {},
   "outputs": [
    {
     "data": {
      "text/plain": [
       "0.8338786072568859"
      ]
     },
     "execution_count": 123,
     "metadata": {},
     "output_type": "execute_result"
    }
   ],
   "source": [
    "df_final['monthly_supply'].skew()\n"
   ]
  },
  {
   "cell_type": "code",
   "execution_count": 124,
   "id": "5f8c43e3",
   "metadata": {},
   "outputs": [],
   "source": [
    "q1 = df_final[\"monthly_supply\"].quantile(0.25)\n",
    "q2 = df_final[\"monthly_supply\"].quantile(0.75)\n",
    "\n",
    "IQR =q2-q1\n",
    "   "
   ]
  },
  {
   "cell_type": "code",
   "execution_count": 125,
   "id": "139a7c0b",
   "metadata": {},
   "outputs": [
    {
     "name": "stdout",
     "output_type": "stream",
     "text": [
      "0.6999999999999988\n",
      "11.100000000000001\n"
     ]
    },
    {
     "data": {
      "text/plain": [
       "(None, None)"
      ]
     },
     "execution_count": 125,
     "metadata": {},
     "output_type": "execute_result"
    }
   ],
   "source": [
    "lower_bridge=q1-(IQR*1.5)\n",
    "upper_bridge=q2+(IQR*1.5)\n",
    "print(lower_bridge), print(upper_bridge)"
   ]
  },
  {
   "cell_type": "code",
   "execution_count": 126,
   "id": "43f63d92",
   "metadata": {},
   "outputs": [],
   "source": [
    "df_final.loc[df_final['monthly_supply'] >=upper_bridge,'monthly_supply'] = upper_bridge"
   ]
  },
  {
   "cell_type": "code",
   "execution_count": 127,
   "id": "3411fef1",
   "metadata": {},
   "outputs": [
    {
     "data": {
      "image/png": "[encoded data removed]",
      "text/plain": [
       "<Figure size 432x288 with 1 Axes>"
      ]
     },
     "metadata": {
      "needs_background": "light"
     },
     "output_type": "display_data"
    }
   ],
   "source": [
    "plt.boxplot(df_final['monthly_supply'], vert=False)\n",
    "plt.xlabel('monthly_supply')\n",
    "plt.title('Box Plot of monthly_supply')\n",
    "plt.show()"
   ]
  },
  {
   "cell_type": "code",
   "execution_count": 128,
   "id": "751519a6",
   "metadata": {},
   "outputs": [],
   "source": [
    "#Check corelation with target variable"
   ]
  },
  {
   "cell_type": "code",
   "execution_count": 129,
   "id": "8e6e95ac",
   "metadata": {},
   "outputs": [
    {
     "data": {
      "text/plain": [
       "target               1.000000\n",
       "PPI_Cement           0.852018\n",
       "PI                   0.827781\n",
       "PPI_Concrete         0.820773\n",
       "POPTHM               0.584025\n",
       "permit               0.299104\n",
       "house_st             0.266613\n",
       "monthly_supply       0.247520\n",
       "new_private_house    0.228967\n",
       "p_saving_rate        0.056094\n",
       "IPI_Cement          -0.119313\n",
       "emratio             -0.158658\n",
       "mortgage_rate       -0.162338\n",
       "unemployed_rate     -0.483275\n",
       "labor_percent       -0.563304\n",
       "Name: target, dtype: float64"
      ]
     },
     "execution_count": 129,
     "metadata": {},
     "output_type": "execute_result"
    }
   ],
   "source": [
    "corr_matrix= df_final.corr()\n",
    "corr_matrix['target'].sort_values(ascending=False)\n"
   ]
  },
  {
   "cell_type": "code",
   "execution_count": null,
   "id": "9ac68fd0",
   "metadata": {},
   "outputs": [],
   "source": [
    "#checking Multicollinearity"
   ]
  },
  {
   "cell_type": "code",
   "execution_count": 130,
   "id": "74cc8202",
   "metadata": {},
   "outputs": [
    {
     "name": "stdout",
     "output_type": "stream",
     "text": [
      "              feature            VIF\n",
      "0             emratio  671678.228481\n",
      "1            house_st     384.702074\n",
      "2          IPI_Cement     136.583688\n",
      "3       labor_percent  765846.329658\n",
      "4      monthly_supply      43.421345\n",
      "5       mortgage_rate      91.294371\n",
      "6   new_private_house     241.730299\n",
      "7              permit     407.593391\n",
      "8                  PI     886.295347\n",
      "9              POPTHM    1009.277186\n",
      "10         PPI_Cement    1266.642689\n",
      "11       PPI_Concrete     607.791821\n",
      "12      p_saving_rate      32.483230\n",
      "13             target     114.227600\n",
      "14    unemployed_rate    3039.954085\n"
     ]
    }
   ],
   "source": [
    "from statsmodels.stats.outliers_influence import variance_inflation_factor\n",
    "\n",
    "vif_data = pd.DataFrame()\n",
    "vif_data[\"feature\"] = df_final.columns\n",
    "\n",
    "vif_data[\"VIF\"] = [variance_inflation_factor(df_final.values, i)\n",
    "                          for i in range(len(df_final.columns))]\n",
    "\n",
    "print(vif_data)\n"
   ]
  },
  {
   "cell_type": "code",
   "execution_count": 131,
   "id": "f74515ea",
   "metadata": {},
   "outputs": [],
   "source": [
    "df_final.to_csv(\"df_final.csv\")\n"
   ]
  },
  {
   "cell_type": "code",
   "execution_count": 132,
   "id": "263e5b9a",
   "metadata": {},
   "outputs": [
    {
     "data": {
      "text/plain": [
       "(263, 15)"
      ]
     },
     "execution_count": 132,
     "metadata": {},
     "output_type": "execute_result"
    }
   ],
   "source": [
    "df_final.shape"
   ]
  },
  {
   "cell_type": "markdown",
   "id": "5f44d4c2",
   "metadata": {},
   "source": [
    "# Model Training"
   ]
  },
  {
   "cell_type": "code",
   "execution_count": null,
   "id": "39e8a87b",
   "metadata": {},
   "outputs": [],
   "source": [
    "import pandas as pd\n",
    "import numpy as np\n",
    "from sklearn.model_selection import train_test_split, cross_val_score\n",
    "from sklearn.linear_model import LassoCV\n",
    "from sklearn.metrics import mean_squared_error, r2_score\n"
   ]
  },
  {
   "cell_type": "code",
   "execution_count": 134,
   "id": "c36a7a4e",
   "metadata": {},
   "outputs": [],
   "source": [
    "from sklearn.model_selection import train_test_split\n",
    "from sklearn.metrics import mean_absolute_percentage_error as mape\n",
    "from sklearn.metrics import mean_squared_error\n",
    "from sklearn.metrics import mean_absolute_error\n",
    "from sklearn.metrics import r2_score\n",
    "from sklearn.linear_model import LinearRegression, Lasso, Ridge\n",
    "from sklearn.ensemble import RandomForestRegressor, AdaBoostRegressor"
   ]
  },
  {
   "cell_type": "code",
   "execution_count": 136,
   "id": "c2e855f3",
   "metadata": {},
   "outputs": [],
   "source": [
    "features=df_final.drop('target',axis=1)\n",
    "target=df_final['target']"
   ]
  },
  {
   "cell_type": "code",
   "execution_count": 137,
   "id": "cd50d5f6",
   "metadata": {},
   "outputs": [],
   "source": [
    "x=features\n",
    "y=target"
   ]
  },
  {
   "cell_type": "code",
   "execution_count": 138,
   "id": "542e1c09",
   "metadata": {},
   "outputs": [
    {
     "data": {
      "text/html": [
       "<div>\n",
       "<style scoped>\n",
       "    .dataframe tbody tr th:only-of-type {\n",
       "        vertical-align: middle;\n",
       "    }\n",
       "\n",
       "    .dataframe tbody tr th {\n",
       "        vertical-align: top;\n",
       "    }\n",
       "\n",
       "    .dataframe thead th {\n",
       "        text-align: right;\n",
       "    }\n",
       "</style>\n",
       "<table border=\"1\" class=\"dataframe\">\n",
       "  <thead>\n",
       "    <tr style=\"text-align: right;\">\n",
       "      <th></th>\n",
       "      <th>emratio</th>\n",
       "      <th>house_st</th>\n",
       "      <th>IPI_Cement</th>\n",
       "      <th>labor_percent</th>\n",
       "      <th>monthly_supply</th>\n",
       "      <th>mortgage_rate</th>\n",
       "      <th>new_private_house</th>\n",
       "      <th>permit</th>\n",
       "      <th>PI</th>\n",
       "      <th>POPTHM</th>\n",
       "      <th>PPI_Cement</th>\n",
       "      <th>PPI_Concrete</th>\n",
       "      <th>p_saving_rate</th>\n",
       "      <th>unemployed_rate</th>\n",
       "    </tr>\n",
       "    <tr>\n",
       "      <th>DATE</th>\n",
       "      <th></th>\n",
       "      <th></th>\n",
       "      <th></th>\n",
       "      <th></th>\n",
       "      <th></th>\n",
       "      <th></th>\n",
       "      <th></th>\n",
       "      <th></th>\n",
       "      <th></th>\n",
       "      <th></th>\n",
       "      <th></th>\n",
       "      <th></th>\n",
       "      <th></th>\n",
       "      <th></th>\n",
       "    </tr>\n",
       "  </thead>\n",
       "  <tbody>\n",
       "    <tr>\n",
       "      <th>2002-01-01</th>\n",
       "      <td>62.7</td>\n",
       "      <td>1698.0</td>\n",
       "      <td>154.1368</td>\n",
       "      <td>66.5</td>\n",
       "      <td>4.2</td>\n",
       "      <td>6.9975</td>\n",
       "      <td>1632.0</td>\n",
       "      <td>1665.0</td>\n",
       "      <td>9015.6</td>\n",
       "      <td>286739.0</td>\n",
       "      <td>148.800</td>\n",
       "      <td>99.000</td>\n",
       "      <td>5.6</td>\n",
       "      <td>5.7</td>\n",
       "    </tr>\n",
       "    <tr>\n",
       "      <th>2002-02-01</th>\n",
       "      <td>63.0</td>\n",
       "      <td>1829.0</td>\n",
       "      <td>153.3106</td>\n",
       "      <td>66.8</td>\n",
       "      <td>4.0</td>\n",
       "      <td>6.8925</td>\n",
       "      <td>1671.0</td>\n",
       "      <td>1787.0</td>\n",
       "      <td>9031.9</td>\n",
       "      <td>286935.0</td>\n",
       "      <td>148.400</td>\n",
       "      <td>99.000</td>\n",
       "      <td>5.4</td>\n",
       "      <td>5.7</td>\n",
       "    </tr>\n",
       "    <tr>\n",
       "      <th>2002-03-01</th>\n",
       "      <td>62.8</td>\n",
       "      <td>1642.0</td>\n",
       "      <td>144.7966</td>\n",
       "      <td>66.6</td>\n",
       "      <td>4.1</td>\n",
       "      <td>7.0140</td>\n",
       "      <td>1559.0</td>\n",
       "      <td>1691.0</td>\n",
       "      <td>9050.7</td>\n",
       "      <td>287131.0</td>\n",
       "      <td>147.900</td>\n",
       "      <td>99.000</td>\n",
       "      <td>5.5</td>\n",
       "      <td>5.7</td>\n",
       "    </tr>\n",
       "    <tr>\n",
       "      <th>2002-04-01</th>\n",
       "      <td>62.7</td>\n",
       "      <td>1592.0</td>\n",
       "      <td>142.7707</td>\n",
       "      <td>66.7</td>\n",
       "      <td>4.3</td>\n",
       "      <td>6.9850</td>\n",
       "      <td>1625.0</td>\n",
       "      <td>1669.0</td>\n",
       "      <td>9099.9</td>\n",
       "      <td>287343.0</td>\n",
       "      <td>151.800</td>\n",
       "      <td>99.000</td>\n",
       "      <td>5.4</td>\n",
       "      <td>5.9</td>\n",
       "    </tr>\n",
       "    <tr>\n",
       "      <th>2002-05-01</th>\n",
       "      <td>62.9</td>\n",
       "      <td>1764.0</td>\n",
       "      <td>141.9094</td>\n",
       "      <td>66.7</td>\n",
       "      <td>4.0</td>\n",
       "      <td>6.8060</td>\n",
       "      <td>1705.0</td>\n",
       "      <td>1716.0</td>\n",
       "      <td>9131.0</td>\n",
       "      <td>287571.0</td>\n",
       "      <td>152.200</td>\n",
       "      <td>99.000</td>\n",
       "      <td>6.1</td>\n",
       "      <td>5.8</td>\n",
       "    </tr>\n",
       "    <tr>\n",
       "      <th>...</th>\n",
       "      <td>...</td>\n",
       "      <td>...</td>\n",
       "      <td>...</td>\n",
       "      <td>...</td>\n",
       "      <td>...</td>\n",
       "      <td>...</td>\n",
       "      <td>...</td>\n",
       "      <td>...</td>\n",
       "      <td>...</td>\n",
       "      <td>...</td>\n",
       "      <td>...</td>\n",
       "      <td>...</td>\n",
       "      <td>...</td>\n",
       "      <td>...</td>\n",
       "    </tr>\n",
       "    <tr>\n",
       "      <th>2023-07-01</th>\n",
       "      <td>60.4</td>\n",
       "      <td>1451.0</td>\n",
       "      <td>94.5459</td>\n",
       "      <td>62.6</td>\n",
       "      <td>7.1</td>\n",
       "      <td>6.8400</td>\n",
       "      <td>1334.0</td>\n",
       "      <td>1443.0</td>\n",
       "      <td>22984.0</td>\n",
       "      <td>335329.0</td>\n",
       "      <td>331.468</td>\n",
       "      <td>336.455</td>\n",
       "      <td>4.2</td>\n",
       "      <td>3.5</td>\n",
       "    </tr>\n",
       "    <tr>\n",
       "      <th>2023-08-01</th>\n",
       "      <td>60.4</td>\n",
       "      <td>1305.0</td>\n",
       "      <td>93.2846</td>\n",
       "      <td>62.8</td>\n",
       "      <td>7.8</td>\n",
       "      <td>7.0720</td>\n",
       "      <td>1370.0</td>\n",
       "      <td>1541.0</td>\n",
       "      <td>23089.1</td>\n",
       "      <td>335501.0</td>\n",
       "      <td>332.276</td>\n",
       "      <td>336.455</td>\n",
       "      <td>4.2</td>\n",
       "      <td>3.8</td>\n",
       "    </tr>\n",
       "    <tr>\n",
       "      <th>2023-09-01</th>\n",
       "      <td>60.4</td>\n",
       "      <td>1346.0</td>\n",
       "      <td>0.0000</td>\n",
       "      <td>62.8</td>\n",
       "      <td>7.2</td>\n",
       "      <td>7.2000</td>\n",
       "      <td>1478.0</td>\n",
       "      <td>1471.0</td>\n",
       "      <td>23185.9</td>\n",
       "      <td>335675.0</td>\n",
       "      <td>334.339</td>\n",
       "      <td>336.455</td>\n",
       "      <td>3.7</td>\n",
       "      <td>3.8</td>\n",
       "    </tr>\n",
       "    <tr>\n",
       "      <th>2023-10-01</th>\n",
       "      <td>60.2</td>\n",
       "      <td>1372.0</td>\n",
       "      <td>0.0000</td>\n",
       "      <td>62.7</td>\n",
       "      <td>7.8</td>\n",
       "      <td>7.6200</td>\n",
       "      <td>1410.0</td>\n",
       "      <td>1498.0</td>\n",
       "      <td>23242.9</td>\n",
       "      <td>335836.0</td>\n",
       "      <td>331.893</td>\n",
       "      <td>336.455</td>\n",
       "      <td>3.8</td>\n",
       "      <td>3.9</td>\n",
       "    </tr>\n",
       "    <tr>\n",
       "      <th>2023-11-01</th>\n",
       "      <td>60.5</td>\n",
       "      <td>0.0</td>\n",
       "      <td>0.0000</td>\n",
       "      <td>62.8</td>\n",
       "      <td>0.0</td>\n",
       "      <td>7.4420</td>\n",
       "      <td>0.0</td>\n",
       "      <td>0.0</td>\n",
       "      <td>0.0</td>\n",
       "      <td>0.0</td>\n",
       "      <td>0.000</td>\n",
       "      <td>99.000</td>\n",
       "      <td>0.0</td>\n",
       "      <td>3.7</td>\n",
       "    </tr>\n",
       "  </tbody>\n",
       "</table>\n",
       "<p>263 rows × 14 columns</p>\n",
       "</div>"
      ],
      "text/plain": [
       "            emratio  house_st  IPI_Cement  labor_percent  monthly_supply  \\\n",
       "DATE                                                                       \n",
       "2002-01-01     62.7    1698.0    154.1368           66.5             4.2   \n",
       "2002-02-01     63.0    1829.0    153.3106           66.8             4.0   \n",
       "2002-03-01     62.8    1642.0    144.7966           66.6             4.1   \n",
       "2002-04-01     62.7    1592.0    142.7707           66.7             4.3   \n",
       "2002-05-01     62.9    1764.0    141.9094           66.7             4.0   \n",
       "...             ...       ...         ...            ...             ...   \n",
       "2023-07-01     60.4    1451.0     94.5459           62.6             7.1   \n",
       "2023-08-01     60.4    1305.0     93.2846           62.8             7.8   \n",
       "2023-09-01     60.4    1346.0      0.0000           62.8             7.2   \n",
       "2023-10-01     60.2    1372.0      0.0000           62.7             7.8   \n",
       "2023-11-01     60.5       0.0      0.0000           62.8             0.0   \n",
       "\n",
       "            mortgage_rate  new_private_house  permit       PI    POPTHM  \\\n",
       "DATE                                                                      \n",
       "2002-01-01         6.9975             1632.0  1665.0   9015.6  286739.0   \n",
       "2002-02-01         6.8925             1671.0  1787.0   9031.9  286935.0   \n",
       "2002-03-01         7.0140             1559.0  1691.0   9050.7  287131.0   \n",
       "2002-04-01         6.9850             1625.0  1669.0   9099.9  287343.0   \n",
       "2002-05-01         6.8060             1705.0  1716.0   9131.0  287571.0   \n",
       "...                   ...                ...     ...      ...       ...   \n",
       "2023-07-01         6.8400             1334.0  1443.0  22984.0  335329.0   \n",
       "2023-08-01         7.0720             1370.0  1541.0  23089.1  335501.0   \n",
       "2023-09-01         7.2000             1478.0  1471.0  23185.9  335675.0   \n",
       "2023-10-01         7.6200             1410.0  1498.0  23242.9  335836.0   \n",
       "2023-11-01         7.4420                0.0     0.0      0.0       0.0   \n",
       "\n",
       "            PPI_Cement  PPI_Concrete  p_saving_rate  unemployed_rate  \n",
       "DATE                                                                  \n",
       "2002-01-01     148.800        99.000            5.6              5.7  \n",
       "2002-02-01     148.400        99.000            5.4              5.7  \n",
       "2002-03-01     147.900        99.000            5.5              5.7  \n",
       "2002-04-01     151.800        99.000            5.4              5.9  \n",
       "2002-05-01     152.200        99.000            6.1              5.8  \n",
       "...                ...           ...            ...              ...  \n",
       "2023-07-01     331.468       336.455            4.2              3.5  \n",
       "2023-08-01     332.276       336.455            4.2              3.8  \n",
       "2023-09-01     334.339       336.455            3.7              3.8  \n",
       "2023-10-01     331.893       336.455            3.8              3.9  \n",
       "2023-11-01       0.000        99.000            0.0              3.7  \n",
       "\n",
       "[263 rows x 14 columns]"
      ]
     },
     "execution_count": 138,
     "metadata": {},
     "output_type": "execute_result"
    }
   ],
   "source": [
    "x"
   ]
  },
  {
   "cell_type": "code",
   "execution_count": 139,
   "id": "ff6c9d5c",
   "metadata": {},
   "outputs": [
    {
     "data": {
      "text/plain": [
       "DATE\n",
       "2002-01-01    116.437\n",
       "2002-02-01    116.917\n",
       "2002-03-01    117.929\n",
       "2002-04-01    119.209\n",
       "2002-05-01    120.788\n",
       "               ...   \n",
       "2023-07-01    310.110\n",
       "2023-08-01    311.392\n",
       "2023-09-01    312.313\n",
       "2023-10-01      0.000\n",
       "2023-11-01      0.000\n",
       "Name: target, Length: 263, dtype: float64"
      ]
     },
     "execution_count": 139,
     "metadata": {},
     "output_type": "execute_result"
    }
   ],
   "source": [
    "y"
   ]
  },
  {
   "cell_type": "code",
   "execution_count": 140,
   "id": "f9a54353",
   "metadata": {},
   "outputs": [
    {
     "name": "stdout",
     "output_type": "stream",
     "text": [
      "Max r2_score is- 0.9639096253099113  on random state - 81\n"
     ]
    }
   ],
   "source": [
    "maxAcc=0\n",
    "maxRandomState=0\n",
    "for i in range(1,300):\n",
    "    x_train,x_test,y_train,y_test=train_test_split(x,y,test_size=0.3,random_state=i)\n",
    "    lr=LinearRegression()\n",
    "    lr.fit(x_train,y_train)\n",
    "    y_predict=lr.predict(x_test)\n",
    "    acc=r2_score(y_test,y_predict)\n",
    "    if acc>maxAcc:\n",
    "        maxAcc=acc\n",
    "        maxRandomScore=i\n",
    "print(\"Max r2_score is-\",maxAcc,\" on random state -\", maxRandomScore)"
   ]
  },
  {
   "cell_type": "code",
   "execution_count": 141,
   "id": "66c425d9",
   "metadata": {},
   "outputs": [
    {
     "name": "stdout",
     "output_type": "stream",
     "text": [
      "R2_score: 0.7827465059336771\n",
      "R2_score on training data: 87.02809432717652\n"
     ]
    }
   ],
   "source": [
    "LR=LinearRegression()\n",
    "LR.fit(x_train,y_train)\n",
    "predict_LR=LR.predict(x_test)\n",
    "predict_train=LR.predict(x_train)\n",
    "print('R2_score:',r2_score(y_test,predict_LR))\n",
    "print('R2_score on training data:',r2_score(y_train,predict_train)*100)\n"
   ]
  },
  {
   "cell_type": "code",
   "execution_count": 142,
   "id": "f9b0d9f9",
   "metadata": {},
   "outputs": [
    {
     "data": {
      "text/plain": [
       "[<matplotlib.lines.Line2D at 0x2229353e430>]"
      ]
     },
     "execution_count": 142,
     "metadata": {},
     "output_type": "execute_result"
    },
    {
     "data": {
      "image/png": "[encoded data removed]",
      "text/plain": [
       "<Figure size 432x288 with 1 Axes>"
      ]
     },
     "metadata": {
      "needs_background": "light"
     },
     "output_type": "display_data"
    }
   ],
   "source": [
    "plt.scatter(x=predict_LR,y=y_test,color='r')\n",
    "plt.plot(predict_LR,predict_LR,color='b')"
   ]
  },
  {
   "cell_type": "code",
   "execution_count": 143,
   "id": "1ced247a",
   "metadata": {},
   "outputs": [
    {
     "name": "stdout",
     "output_type": "stream",
     "text": [
      "RMSE:  22.99\n",
      "MSE:  528.5576914096196\n"
     ]
    }
   ],
   "source": [
    "from sklearn.metrics import mean_squared_error\n",
    "mse = mean_squared_error(y_test, predict_LR)\n",
    "rmse = np.sqrt(mse)\n",
    "print(\"RMSE: \", np.round(rmse, 2))\n",
    "print(\"MSE: \",mse)"
   ]
  },
  {
   "cell_type": "code",
   "execution_count": 144,
   "id": "e00a63db",
   "metadata": {},
   "outputs": [
    {
     "name": "stdout",
     "output_type": "stream",
     "text": [
      "Validation Error :  2148845464902939.5\n"
     ]
    }
   ],
   "source": [
    "print('Validation Error : ', mape(y_test, y_predict))"
   ]
  },
  {
   "cell_type": "code",
   "execution_count": 145,
   "id": "70353193",
   "metadata": {},
   "outputs": [
    {
     "name": "stdout",
     "output_type": "stream",
     "text": [
      "R2_score: 0.7901607922192089\n",
      "R2_score on training data: 96.01518224007569\n",
      "mean_abs_error= 5.007627468354435\n",
      "mean_squared_error= 510.51941745976853\n",
      "root_mean squared error= 22.594676750504057\n",
      "Validation Error :  8234303458285617.0\n"
     ]
    }
   ],
   "source": [
    "rfr=RandomForestRegressor()\n",
    "rfr.fit(x_train,y_train)\n",
    "predict_RFR=rfr.predict(x_test)\n",
    "predict_train=rfr.predict(x_train)\n",
    "print('R2_score:',r2_score(y_test,predict_RFR))\n",
    "print('R2_score on training data:',r2_score(y_train,predict_train)*100)\n",
    "print('mean_abs_error=',mean_absolute_error(y_test,predict_RFR))\n",
    "print('mean_squared_error=',mean_squared_error(y_test,predict_RFR))\n",
    "print('root_mean squared error=',np.sqrt(mean_squared_error(y_test,predict_RFR)))\n",
    "print('Validation Error : ', mape(y_test, predict_RFR))"
   ]
  },
  {
   "cell_type": "code",
   "execution_count": 146,
   "id": "3971a5a0",
   "metadata": {},
   "outputs": [
    {
     "data": {
      "text/plain": [
       "[<matplotlib.lines.Line2D at 0x22293678e50>]"
      ]
     },
     "execution_count": 146,
     "metadata": {},
     "output_type": "execute_result"
    },
    {
     "data": {
      "image/png": "[encoded data removed]",
      "text/plain": [
       "<Figure size 432x288 with 1 Axes>"
      ]
     },
     "metadata": {
      "needs_background": "light"
     },
     "output_type": "display_data"
    }
   ],
   "source": [
    "plt.scatter(x=predict_RFR,y=y_test,color='r')\n",
    "plt.plot(predict_RFR,predict_RFR,color='b')"
   ]
  },
  {
   "cell_type": "code",
   "execution_count": 147,
   "id": "41a1066c",
   "metadata": {},
   "outputs": [
    {
     "name": "stdout",
     "output_type": "stream",
     "text": [
      "Validation Error :  2148845464902939.5\n"
     ]
    }
   ],
   "source": [
    "print('Validation Error : ', mape(y_test, y_predict))"
   ]
  },
  {
   "cell_type": "code",
   "execution_count": 148,
   "id": "7926cfc0",
   "metadata": {},
   "outputs": [
    {
     "name": "stdout",
     "output_type": "stream",
     "text": [
      "R2_score: 0.9019425409193125\n",
      "R2_score on training data: 98.65069471975104\n",
      "mean_abs_error= 7.389157571355312\n",
      "mean_squared_error= 238.56474400986679\n",
      "root_mean squared error= 15.445541233957028\n",
      "Validation Error :  6877461692914963.0\n"
     ]
    }
   ],
   "source": [
    "abr=AdaBoostRegressor()\n",
    "abr.fit(x_train,y_train)\n",
    "predict_ABR=abr.predict(x_test)\n",
    "predict_train=abr.predict(x_train)\n",
    "print('R2_score:',r2_score(y_test,predict_ABR))\n",
    "print('R2_score on training data:',r2_score(y_train,predict_train)*100)\n",
    "print('mean_abs_error=',mean_absolute_error(y_test,predict_ABR))\n",
    "print('mean_squared_error=',mean_squared_error(y_test,predict_ABR))\n",
    "print('root_mean squared error=',np.sqrt(mean_squared_error(y_test,predict_ABR)))\n",
    "print('Validation Error : ', mape(y_test, predict_ABR))\n"
   ]
  },
  {
   "cell_type": "code",
   "execution_count": 149,
   "id": "b25f770e",
   "metadata": {},
   "outputs": [
    {
     "data": {
      "text/plain": [
       "[<matplotlib.lines.Line2D at 0x2229380c940>]"
      ]
     },
     "execution_count": 149,
     "metadata": {},
     "output_type": "execute_result"
    },
    {
     "data": {
      "image/png": "[encoded data removed]",
      "text/plain": [
       "<Figure size 432x288 with 1 Axes>"
      ]
     },
     "metadata": {
      "needs_background": "light"
     },
     "output_type": "display_data"
    }
   ],
   "source": [
    "plt.scatter(x=predict_ABR,y=y_test,color='r')\n",
    "plt.plot(predict_ABR,predict_ABR,color='b')"
   ]
  },
  {
   "cell_type": "code",
   "execution_count": 150,
   "id": "36b206d6",
   "metadata": {},
   "outputs": [],
   "source": [
    "from sklearn.tree import DecisionTreeRegressor\n",
    "from sklearn.neighbors import KNeighborsRegressor as KNN\n",
    "from sklearn.linear_model import Lasso,Ridge\n",
    "from sklearn.ensemble import GradientBoostingRegressor"
   ]
  },
  {
   "cell_type": "code",
   "execution_count": 151,
   "id": "cb59c30d",
   "metadata": {},
   "outputs": [
    {
     "name": "stdout",
     "output_type": "stream",
     "text": [
      "R2_score: 0.33998428538972314\n",
      "R2_score on training data: 100.0\n",
      "mean_abs_error= 8.225468354430383\n",
      "mean_squared_error= 1605.757292455696\n",
      "root_mean squared error= 40.071901532815936\n",
      "Validation Error :  9645171196891664.0\n"
     ]
    }
   ],
   "source": [
    "DTR=DecisionTreeRegressor()\n",
    "DTR.fit(x_train,y_train)\n",
    "predict_DTR=DTR.predict(x_test)\n",
    "predict_train=DTR.predict(x_train)\n",
    "print('R2_score:',r2_score(y_test,predict_DTR))\n",
    "print('R2_score on training data:',r2_score(y_train,predict_train)*100)\n",
    "print('mean_abs_error=',mean_absolute_error(y_test,predict_DTR))\n",
    "print('mean_squared_error=',mean_squared_error(y_test,predict_DTR))\n",
    "print('root_mean squared error=',np.sqrt(mean_squared_error(y_test,predict_DTR)))\n",
    "print('Validation Error : ', mape(y_test, predict_DTR))\n"
   ]
  },
  {
   "cell_type": "code",
   "execution_count": 152,
   "id": "b1a05077",
   "metadata": {},
   "outputs": [
    {
     "data": {
      "text/plain": [
       "[<matplotlib.lines.Line2D at 0x2229342e550>]"
      ]
     },
     "execution_count": 152,
     "metadata": {},
     "output_type": "execute_result"
    },
    {
     "data": {
      "image/png": "[encoded data removed]",
      "text/plain": [
       "<Figure size 432x288 with 1 Axes>"
      ]
     },
     "metadata": {
      "needs_background": "light"
     },
     "output_type": "display_data"
    }
   ],
   "source": [
    "plt.scatter(x=predict_DTR,y=y_test,color='r')\n",
    "plt.plot(predict_DTR,predict_DTR,color='b')"
   ]
  },
  {
   "cell_type": "code",
   "execution_count": 153,
   "id": "ea0bd7de",
   "metadata": {},
   "outputs": [
    {
     "name": "stdout",
     "output_type": "stream",
     "text": [
      "R2_score: 0.8937680934272281\n",
      "R2_score on training data: 85.21443391305243\n",
      "mean_abs_error= 4.564792405063288\n",
      "mean_squared_error= 258.4524199873416\n",
      "root_mean squared error= 16.076455454712075\n"
     ]
    }
   ],
   "source": [
    "knn=KNN()\n",
    "knn.fit(x_train,y_train)\n",
    "predict_KNN=knn.predict(x_test)\n",
    "predict_train=knn.predict(x_train)\n",
    "print('R2_score:',r2_score(y_test,predict_KNN))\n",
    "print('R2_score on training data:',r2_score(y_train,predict_train)*100)\n",
    "print('mean_abs_error=',mean_absolute_error(y_test,predict_KNN))\n",
    "print('mean_squared_error=',mean_squared_error(y_test,predict_KNN))\n",
    "print('root_mean squared error=',np.sqrt(mean_squared_error(y_test,predict_KNN)))\n"
   ]
  },
  {
   "cell_type": "code",
   "execution_count": 154,
   "id": "1050841d",
   "metadata": {},
   "outputs": [
    {
     "data": {
      "text/plain": [
       "[<matplotlib.lines.Line2D at 0x2229347b1f0>]"
      ]
     },
     "execution_count": 154,
     "metadata": {},
     "output_type": "execute_result"
    },
    {
     "data": {
      "image/png": "[encoded data removed]",
      "text/plain": [
       "<Figure size 432x288 with 1 Axes>"
      ]
     },
     "metadata": {
      "needs_background": "light"
     },
     "output_type": "display_data"
    }
   ],
   "source": [
    "plt.scatter(x=predict_KNN,y=y_test,color='r')\n",
    "plt.plot(predict_KNN,predict_KNN,color='b')"
   ]
  },
  {
   "cell_type": "code",
   "execution_count": 155,
   "id": "939eb5ed",
   "metadata": {},
   "outputs": [
    {
     "name": "stdout",
     "output_type": "stream",
     "text": [
      "R2_score: 0.6470342313425084\n",
      "R2_score on training data: 99.96998729340395\n",
      "mean_abs_error= 6.417549626144012\n",
      "mean_squared_error= 858.7331247766813\n",
      "root_mean squared error= 29.30414859327398\n",
      "Validation Error :  8789221913861596.0\n"
     ]
    }
   ],
   "source": [
    "GBR=GradientBoostingRegressor()\n",
    "GBR.fit(x_train,y_train)\n",
    "predict_GBR=GBR.predict(x_test)\n",
    "predict_train=GBR.predict(x_train)\n",
    "print('R2_score:',r2_score(y_test,predict_GBR))\n",
    "print('R2_score on training data:',r2_score(y_train,predict_train)*100)\n",
    "print('mean_abs_error=',mean_absolute_error(y_test,predict_GBR))\n",
    "print('mean_squared_error=',mean_squared_error(y_test,predict_GBR))\n",
    "print('root_mean squared error=',np.sqrt(mean_squared_error(y_test,predict_GBR)))\n",
    "print('Validation Error : ', mape(y_test, predict_GBR))\n"
   ]
  },
  {
   "cell_type": "code",
   "execution_count": 156,
   "id": "ffcabe1d",
   "metadata": {},
   "outputs": [
    {
     "data": {
      "text/plain": [
       "[<matplotlib.lines.Line2D at 0x222931b0fd0>]"
      ]
     },
     "execution_count": 156,
     "metadata": {},
     "output_type": "execute_result"
    },
    {
     "data": {
      "image/png": "[encoded data removed]",
      "text/plain": [
       "<Figure size 432x288 with 1 Axes>"
      ]
     },
     "metadata": {
      "needs_background": "light"
     },
     "output_type": "display_data"
    }
   ],
   "source": [
    "plt.scatter(x=predict_GBR,y=y_test,color='r')\n",
    "plt.plot(predict_GBR,predict_GBR,color='b')"
   ]
  },
  {
   "cell_type": "code",
   "execution_count": 157,
   "id": "772bfee7",
   "metadata": {},
   "outputs": [
    {
     "name": "stdout",
     "output_type": "stream",
     "text": [
      "R2_score: 0.5806634616240015\n",
      "R2_score on training data: 86.6744476778397\n",
      "mean_abs_error= 14.422920797541568\n",
      "mean_squared_error= 1020.2070792935372\n",
      "root_mean squared error= 31.940680632909768\n",
      "Validation Error :  1.2220323590102378e+16\n"
     ]
    }
   ],
   "source": [
    "LA=Lasso()\n",
    "LA.fit(x_train,y_train)\n",
    "predict_LA=LA.predict(x_test)\n",
    "predict_train=LA.predict(x_train)\n",
    "print('R2_score:',r2_score(y_test,predict_LA))\n",
    "print('R2_score on training data:',r2_score(y_train,predict_train)*100)\n",
    "print('mean_abs_error=',mean_absolute_error(y_test,predict_LA))\n",
    "print('mean_squared_error=',mean_squared_error(y_test,predict_LA))\n",
    "print('root_mean squared error=',np.sqrt(mean_squared_error(y_test,predict_LA)))\n",
    "print('Validation Error : ', mape(y_test, predict_LA))\n"
   ]
  },
  {
   "cell_type": "code",
   "execution_count": 158,
   "id": "2fe7f1b1",
   "metadata": {},
   "outputs": [
    {
     "data": {
      "text/plain": [
       "[<matplotlib.lines.Line2D at 0x222931c86d0>]"
      ]
     },
     "execution_count": 158,
     "metadata": {},
     "output_type": "execute_result"
    },
    {
     "data": {
      "image/png": "[encoded data removed]",
      "text/plain": [
       "<Figure size 432x288 with 1 Axes>"
      ]
     },
     "metadata": {
      "needs_background": "light"
     },
     "output_type": "display_data"
    }
   ],
   "source": [
    "plt.scatter(x=predict_LA,y=y_test,color='r')\n",
    "plt.plot(predict_LA,predict_LA,color='b')"
   ]
  },
  {
   "cell_type": "code",
   "execution_count": 159,
   "id": "122c174a",
   "metadata": {},
   "outputs": [
    {
     "name": "stdout",
     "output_type": "stream",
     "text": [
      "R2_score: 0.7883633970344182\n",
      "R2_score on training data: 86.99136449560334\n",
      "mean_abs_error= 12.89739464815084\n",
      "mean_squared_error= 514.8923139855832\n",
      "root_mean squared error= 22.691238705403087\n",
      "Validation Error :  3026887537986492.0\n"
     ]
    }
   ],
   "source": [
    "RI=Ridge()\n",
    "RI.fit(x_train,y_train)\n",
    "predict_RI=RI.predict(x_test)\n",
    "predict_train=RI.predict(x_train)\n",
    "print('R2_score:',r2_score(y_test,predict_RI))\n",
    "print('R2_score on training data:',r2_score(y_train,predict_train)*100)\n",
    "print('mean_abs_error=',mean_absolute_error(y_test,predict_RI))\n",
    "print('mean_squared_error=',mean_squared_error(y_test,predict_RI))\n",
    "print('root_mean squared error=',np.sqrt(mean_squared_error(y_test,predict_RI)))\n",
    "print('Validation Error : ', mape(y_test, predict_RI))"
   ]
  },
  {
   "cell_type": "code",
   "execution_count": 160,
   "id": "f6bfae64",
   "metadata": {},
   "outputs": [
    {
     "data": {
      "text/plain": [
       "[<matplotlib.lines.Line2D at 0x22293738f40>]"
      ]
     },
     "execution_count": 160,
     "metadata": {},
     "output_type": "execute_result"
    },
    {
     "data": {
      "image/png": "[encoded data removed]",
      "text/plain": [
       "<Figure size 432x288 with 1 Axes>"
      ]
     },
     "metadata": {
      "needs_background": "light"
     },
     "output_type": "display_data"
    }
   ],
   "source": [
    "plt.scatter(x=predict_RI,y=y_test,color='r')\n",
    "plt.plot(predict_RI,predict_RI,color='b')"
   ]
  },
  {
   "cell_type": "code",
   "execution_count": 161,
   "id": "c642e0db",
   "metadata": {},
   "outputs": [
    {
     "data": {
      "text/html": [
       "<div>\n",
       "<style scoped>\n",
       "    .dataframe tbody tr th:only-of-type {\n",
       "        vertical-align: middle;\n",
       "    }\n",
       "\n",
       "    .dataframe tbody tr th {\n",
       "        vertical-align: top;\n",
       "    }\n",
       "\n",
       "    .dataframe thead th {\n",
       "        text-align: right;\n",
       "    }\n",
       "</style>\n",
       "<table border=\"1\" class=\"dataframe\">\n",
       "  <thead>\n",
       "    <tr style=\"text-align: right;\">\n",
       "      <th></th>\n",
       "      <th>emratio</th>\n",
       "      <th>house_st</th>\n",
       "      <th>IPI_Cement</th>\n",
       "      <th>labor_percent</th>\n",
       "      <th>monthly_supply</th>\n",
       "      <th>mortgage_rate</th>\n",
       "      <th>new_private_house</th>\n",
       "      <th>permit</th>\n",
       "      <th>PI</th>\n",
       "      <th>POPTHM</th>\n",
       "      <th>PPI_Cement</th>\n",
       "      <th>PPI_Concrete</th>\n",
       "      <th>p_saving_rate</th>\n",
       "      <th>unemployed_rate</th>\n",
       "    </tr>\n",
       "    <tr>\n",
       "      <th>DATE</th>\n",
       "      <th></th>\n",
       "      <th></th>\n",
       "      <th></th>\n",
       "      <th></th>\n",
       "      <th></th>\n",
       "      <th></th>\n",
       "      <th></th>\n",
       "      <th></th>\n",
       "      <th></th>\n",
       "      <th></th>\n",
       "      <th></th>\n",
       "      <th></th>\n",
       "      <th></th>\n",
       "      <th></th>\n",
       "    </tr>\n",
       "  </thead>\n",
       "  <tbody>\n",
       "    <tr>\n",
       "      <th>2022-03-01</th>\n",
       "      <td>60.1</td>\n",
       "      <td>1713.0</td>\n",
       "      <td>101.5162</td>\n",
       "      <td>62.4</td>\n",
       "      <td>7.0</td>\n",
       "      <td>4.1720</td>\n",
       "      <td>1356.0</td>\n",
       "      <td>1877.0</td>\n",
       "      <td>21510.5</td>\n",
       "      <td>333056.0</td>\n",
       "      <td>281.915</td>\n",
       "      <td>301.302</td>\n",
       "      <td>3.4</td>\n",
       "      <td>3.6</td>\n",
       "    </tr>\n",
       "    <tr>\n",
       "      <th>2002-08-01</th>\n",
       "      <td>62.7</td>\n",
       "      <td>1633.0</td>\n",
       "      <td>142.5233</td>\n",
       "      <td>66.6</td>\n",
       "      <td>4.0</td>\n",
       "      <td>6.2900</td>\n",
       "      <td>1722.0</td>\n",
       "      <td>1695.0</td>\n",
       "      <td>9175.3</td>\n",
       "      <td>288303.0</td>\n",
       "      <td>152.700</td>\n",
       "      <td>150.500</td>\n",
       "      <td>5.2</td>\n",
       "      <td>5.7</td>\n",
       "    </tr>\n",
       "    <tr>\n",
       "      <th>2019-10-01</th>\n",
       "      <td>61.0</td>\n",
       "      <td>1332.0</td>\n",
       "      <td>102.4713</td>\n",
       "      <td>63.3</td>\n",
       "      <td>5.3</td>\n",
       "      <td>3.6880</td>\n",
       "      <td>1294.0</td>\n",
       "      <td>1538.0</td>\n",
       "      <td>18549.5</td>\n",
       "      <td>331066.0</td>\n",
       "      <td>255.400</td>\n",
       "      <td>251.100</td>\n",
       "      <td>7.3</td>\n",
       "      <td>3.6</td>\n",
       "    </tr>\n",
       "    <tr>\n",
       "      <th>2002-02-01</th>\n",
       "      <td>63.0</td>\n",
       "      <td>1829.0</td>\n",
       "      <td>153.3106</td>\n",
       "      <td>66.8</td>\n",
       "      <td>4.0</td>\n",
       "      <td>6.8925</td>\n",
       "      <td>1671.0</td>\n",
       "      <td>1787.0</td>\n",
       "      <td>9031.9</td>\n",
       "      <td>286935.0</td>\n",
       "      <td>148.400</td>\n",
       "      <td>99.000</td>\n",
       "      <td>5.4</td>\n",
       "      <td>5.7</td>\n",
       "    </tr>\n",
       "    <tr>\n",
       "      <th>2018-01-01</th>\n",
       "      <td>60.1</td>\n",
       "      <td>1299.0</td>\n",
       "      <td>100.0281</td>\n",
       "      <td>62.7</td>\n",
       "      <td>6.0</td>\n",
       "      <td>4.0325</td>\n",
       "      <td>1208.0</td>\n",
       "      <td>1311.0</td>\n",
       "      <td>17141.7</td>\n",
       "      <td>327969.0</td>\n",
       "      <td>246.800</td>\n",
       "      <td>230.900</td>\n",
       "      <td>5.7</td>\n",
       "      <td>4.0</td>\n",
       "    </tr>\n",
       "    <tr>\n",
       "      <th>...</th>\n",
       "      <td>...</td>\n",
       "      <td>...</td>\n",
       "      <td>...</td>\n",
       "      <td>...</td>\n",
       "      <td>...</td>\n",
       "      <td>...</td>\n",
       "      <td>...</td>\n",
       "      <td>...</td>\n",
       "      <td>...</td>\n",
       "      <td>...</td>\n",
       "      <td>...</td>\n",
       "      <td>...</td>\n",
       "      <td>...</td>\n",
       "      <td>...</td>\n",
       "    </tr>\n",
       "    <tr>\n",
       "      <th>2010-02-01</th>\n",
       "      <td>58.5</td>\n",
       "      <td>604.0</td>\n",
       "      <td>66.3508</td>\n",
       "      <td>64.9</td>\n",
       "      <td>8.3</td>\n",
       "      <td>4.9900</td>\n",
       "      <td>670.0</td>\n",
       "      <td>650.0</td>\n",
       "      <td>12267.6</td>\n",
       "      <td>308904.0</td>\n",
       "      <td>197.900</td>\n",
       "      <td>196.500</td>\n",
       "      <td>5.3</td>\n",
       "      <td>9.8</td>\n",
       "    </tr>\n",
       "    <tr>\n",
       "      <th>2016-09-01</th>\n",
       "      <td>59.7</td>\n",
       "      <td>1068.0</td>\n",
       "      <td>105.2719</td>\n",
       "      <td>62.9</td>\n",
       "      <td>5.2</td>\n",
       "      <td>3.4600</td>\n",
       "      <td>1035.0</td>\n",
       "      <td>1303.0</td>\n",
       "      <td>15999.1</td>\n",
       "      <td>325155.0</td>\n",
       "      <td>234.900</td>\n",
       "      <td>215.700</td>\n",
       "      <td>5.1</td>\n",
       "      <td>5.0</td>\n",
       "    </tr>\n",
       "    <tr>\n",
       "      <th>2019-12-01</th>\n",
       "      <td>61.0</td>\n",
       "      <td>1551.0</td>\n",
       "      <td>100.0059</td>\n",
       "      <td>63.3</td>\n",
       "      <td>5.6</td>\n",
       "      <td>3.7200</td>\n",
       "      <td>1310.0</td>\n",
       "      <td>1461.0</td>\n",
       "      <td>18583.8</td>\n",
       "      <td>331345.0</td>\n",
       "      <td>255.000</td>\n",
       "      <td>252.700</td>\n",
       "      <td>6.4</td>\n",
       "      <td>3.6</td>\n",
       "    </tr>\n",
       "    <tr>\n",
       "      <th>2015-07-01</th>\n",
       "      <td>59.3</td>\n",
       "      <td>1146.0</td>\n",
       "      <td>112.8845</td>\n",
       "      <td>62.6</td>\n",
       "      <td>5.2</td>\n",
       "      <td>4.0460</td>\n",
       "      <td>988.0</td>\n",
       "      <td>1140.0</td>\n",
       "      <td>15518.6</td>\n",
       "      <td>322186.0</td>\n",
       "      <td>223.900</td>\n",
       "      <td>208.400</td>\n",
       "      <td>5.6</td>\n",
       "      <td>5.2</td>\n",
       "    </tr>\n",
       "    <tr>\n",
       "      <th>2010-10-01</th>\n",
       "      <td>58.3</td>\n",
       "      <td>543.0</td>\n",
       "      <td>82.9329</td>\n",
       "      <td>64.4</td>\n",
       "      <td>8.2</td>\n",
       "      <td>4.2250</td>\n",
       "      <td>605.0</td>\n",
       "      <td>558.0</td>\n",
       "      <td>12723.6</td>\n",
       "      <td>310612.0</td>\n",
       "      <td>190.000</td>\n",
       "      <td>196.000</td>\n",
       "      <td>5.9</td>\n",
       "      <td>9.4</td>\n",
       "    </tr>\n",
       "  </tbody>\n",
       "</table>\n",
       "<p>79 rows × 14 columns</p>\n",
       "</div>"
      ],
      "text/plain": [
       "            emratio  house_st  IPI_Cement  labor_percent  monthly_supply  \\\n",
       "DATE                                                                       \n",
       "2022-03-01     60.1    1713.0    101.5162           62.4             7.0   \n",
       "2002-08-01     62.7    1633.0    142.5233           66.6             4.0   \n",
       "2019-10-01     61.0    1332.0    102.4713           63.3             5.3   \n",
       "2002-02-01     63.0    1829.0    153.3106           66.8             4.0   \n",
       "2018-01-01     60.1    1299.0    100.0281           62.7             6.0   \n",
       "...             ...       ...         ...            ...             ...   \n",
       "2010-02-01     58.5     604.0     66.3508           64.9             8.3   \n",
       "2016-09-01     59.7    1068.0    105.2719           62.9             5.2   \n",
       "2019-12-01     61.0    1551.0    100.0059           63.3             5.6   \n",
       "2015-07-01     59.3    1146.0    112.8845           62.6             5.2   \n",
       "2010-10-01     58.3     543.0     82.9329           64.4             8.2   \n",
       "\n",
       "            mortgage_rate  new_private_house  permit       PI    POPTHM  \\\n",
       "DATE                                                                      \n",
       "2022-03-01         4.1720             1356.0  1877.0  21510.5  333056.0   \n",
       "2002-08-01         6.2900             1722.0  1695.0   9175.3  288303.0   \n",
       "2019-10-01         3.6880             1294.0  1538.0  18549.5  331066.0   \n",
       "2002-02-01         6.8925             1671.0  1787.0   9031.9  286935.0   \n",
       "2018-01-01         4.0325             1208.0  1311.0  17141.7  327969.0   \n",
       "...                   ...                ...     ...      ...       ...   \n",
       "2010-02-01         4.9900              670.0   650.0  12267.6  308904.0   \n",
       "2016-09-01         3.4600             1035.0  1303.0  15999.1  325155.0   \n",
       "2019-12-01         3.7200             1310.0  1461.0  18583.8  331345.0   \n",
       "2015-07-01         4.0460              988.0  1140.0  15518.6  322186.0   \n",
       "2010-10-01         4.2250              605.0   558.0  12723.6  310612.0   \n",
       "\n",
       "            PPI_Cement  PPI_Concrete  p_saving_rate  unemployed_rate  \n",
       "DATE                                                                  \n",
       "2022-03-01     281.915       301.302            3.4              3.6  \n",
       "2002-08-01     152.700       150.500            5.2              5.7  \n",
       "2019-10-01     255.400       251.100            7.3              3.6  \n",
       "2002-02-01     148.400        99.000            5.4              5.7  \n",
       "2018-01-01     246.800       230.900            5.7              4.0  \n",
       "...                ...           ...            ...              ...  \n",
       "2010-02-01     197.900       196.500            5.3              9.8  \n",
       "2016-09-01     234.900       215.700            5.1              5.0  \n",
       "2019-12-01     255.000       252.700            6.4              3.6  \n",
       "2015-07-01     223.900       208.400            5.6              5.2  \n",
       "2010-10-01     190.000       196.000            5.9              9.4  \n",
       "\n",
       "[79 rows x 14 columns]"
      ]
     },
     "execution_count": 161,
     "metadata": {},
     "output_type": "execute_result"
    }
   ],
   "source": [
    "x_test"
   ]
  },
  {
   "cell_type": "code",
   "execution_count": 162,
   "id": "10226d54",
   "metadata": {},
   "outputs": [],
   "source": [
    "#abr=AdaBoostRegressor() is the best model for predict HousePrice\n"
   ]
  },
  {
   "cell_type": "code",
   "execution_count": 163,
   "id": "28f087a9",
   "metadata": {},
   "outputs": [
    {
     "name": "stdout",
     "output_type": "stream",
     "text": [
      "[123.9366087]\n"
     ]
    },
    {
     "name": "stderr",
     "output_type": "stream",
     "text": [
      "C:\\ProgramData\\Anaconda3\\lib\\site-packages\\sklearn\\base.py:450: UserWarning: X does not have valid feature names, but AdaBoostRegressor was fitted with feature names\n",
      "  warnings.warn(\n"
     ]
    }
   ],
   "source": [
    "input_data=(62.7,1633.0,142.5233,66.6,4.0,6.29,1722.0,1695.0,9175.3,288303.0,152.7,150.5,5.2,5.7)#input the data from csv\n",
    "input_data_as_array=np.asarray(input_data)#convet in  to numpy array\n",
    "input_data_reshape=input_data_as_array.reshape(1,-1)# reshaping\n",
    "prediction=abr.predict(input_data_reshape)\n",
    "print(prediction)"
   ]
  },
  {
   "cell_type": "code",
   "execution_count": 164,
   "id": "4f4dd9ab",
   "metadata": {},
   "outputs": [],
   "source": [
    "# S&P/Case-Shiller U.S. National Home Price Index (CSUSHPINSA)\t\n"
   ]
  },
  {
   "cell_type": "code",
   "execution_count": 165,
   "id": "80849205",
   "metadata": {},
   "outputs": [
    {
     "name": "stdout",
     "output_type": "stream",
     "text": [
      "S&P/Case-Shiller U.S. National Home Price Index (CSUSHPINSA) is  123.9366086956522\n"
     ]
    }
   ],
   "source": [
    "print('S&P/Case-Shiller U.S. National Home Price Index (CSUSHPINSA) is ',prediction[0])"
   ]
  },
  {
   "cell_type": "code",
   "execution_count": 166,
   "id": "a6cf7ef6",
   "metadata": {},
   "outputs": [
    {
     "name": "stdout",
     "output_type": "stream",
     "text": [
      "[284.27189091]\n"
     ]
    },
    {
     "name": "stderr",
     "output_type": "stream",
     "text": [
      "C:\\ProgramData\\Anaconda3\\lib\\site-packages\\sklearn\\base.py:450: UserWarning: X does not have valid feature names, but AdaBoostRegressor was fitted with feature names\n",
      "  warnings.warn(\n"
     ]
    }
   ],
   "source": [
    "input_data=(60.4,1346.0,0.0,62.8,7.2,7.2,1478.0,1471.0,23185.9,335675.0,334.339,336.455,3.7,3.8)#input the data from csv\n",
    "input_data_as_array=np.asarray(input_data)#convet in  to numpy array\n",
    "input_data_reshape=input_data_as_array.reshape(1,-1)# reshaping\n",
    "prediction=abr.predict(input_data_reshape)\n",
    "print(prediction)"
   ]
  },
  {
   "cell_type": "code",
   "execution_count": 167,
   "id": "fabb29d9",
   "metadata": {},
   "outputs": [
    {
     "name": "stdout",
     "output_type": "stream",
     "text": [
      "S&P/Case-Shiller U.S. National Home Price Index (CSUSHPINSA) is  284.2718909090909\n"
     ]
    }
   ],
   "source": [
    "print('S&P/Case-Shiller U.S. National Home Price Index (CSUSHPINSA) is ',prediction[0])"
   ]
  },
  {
   "cell_type": "code",
   "execution_count": null,
   "id": "c341ffa3",
   "metadata": {},
   "outputs": [],
   "source": []
  }
 ],
 "metadata": {
  "kernelspec": {
   "display_name": "Python 3 (ipykernel)",
   "language": "python",
   "name": "python3"
  },
  "language_info": {
   "codemirror_mode": {
    "name": "ipython",
    "version": 3
   },
   "file_extension": ".py",
   "mimetype": "text/x-python",
   "name": "python",
   "nbconvert_exporter": "python",
   "pygments_lexer": "ipython3",
   "version": "3.9.12"
  }
 },
 "nbformat": 4,
 "nbformat_minor": 5
}
